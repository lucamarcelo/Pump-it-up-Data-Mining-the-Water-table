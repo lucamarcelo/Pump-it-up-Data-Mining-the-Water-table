{
 "cells": [
  {
   "cell_type": "markdown",
   "id": "municipal-layout",
   "metadata": {},
   "source": [
    "# Pump it Up: Data Mining the Water Table\n",
    "\n"
   ]
  },
  {
   "cell_type": "markdown",
   "id": "sixth-trial",
   "metadata": {},
   "source": [
    "#### Import relevant libraries"
   ]
  },
  {
   "cell_type": "code",
   "execution_count": 1,
   "id": "embedded-extension",
   "metadata": {},
   "outputs": [],
   "source": [
    "import modin.pandas as pd\n",
    "import numpy as np\n",
    "from scipy import stats\n",
    "import missingno as msno\n",
    "#Visualization\n",
    "import matplotlib.pyplot as plt\n",
    "import seaborn as sns\n",
    "from IPython.display import Image\n",
    "#Machine Learning\n",
    "from sklearn.preprocessing import LabelEncoder, OneHotEncoder #categorical to numerical data\n",
    "from sklearn.model_selection import cross_val_score, GridSearchCV, RandomizedSearchCV\n",
    "from sklearn.datasets import make_classification\n",
    "from sklearn.tree import DecisionTreeClassifier\n",
    "from sklearn.ensemble import RandomForestClassifier\n",
    "from sklearn.neighbors import KNeighborsClassifier\n",
    "from sklearn import naive_bayes\n",
    "from sklearn.model_selection import train_test_split\n",
    "from sklearn.metrics import plot_confusion_matrix\n",
    "#Evaluation\n",
    "from sklearn.metrics import accuracy_score, auc, confusion_matrix, f1_score, precision_score, recall_score, roc_curve\n",
    "#Turning off warnings\n",
    "import warnings\n",
    "warnings.filterwarnings('ignore')"
   ]
  },
  {
   "cell_type": "markdown",
   "id": "resident-consideration",
   "metadata": {},
   "source": [
    "#### Import data"
   ]
  },
  {
   "cell_type": "code",
   "execution_count": 2,
   "id": "confirmed-settle",
   "metadata": {},
   "outputs": [],
   "source": [
    "train_values = pd.read_csv('Training Set Values.csv')\n",
    "train_labels = pd.read_csv('Training Set Labels.csv')\n",
    "test_values = pd.read_csv('Test Set Values.csv')"
   ]
  },
  {
   "cell_type": "markdown",
   "id": "mounted-relevance",
   "metadata": {},
   "source": [
    "## Workflow\n",
    "#### 1. Data Interpretation\n",
    "#### 2. Exploratory Data Analysis (EDA)\n",
    "#### 3. Preprocessing \n",
    "#### 4. Feature Engineering\n",
    "#### 5. Modelling  \n",
    "#### 6. Create Predictions"
   ]
  },
  {
   "cell_type": "markdown",
   "id": "theoretical-casting",
   "metadata": {},
   "source": [
    "## 1. Interpretación de los datos\n",
    "Disponemos inicialmente de tres conjuntos de datos: \n",
    "- *train_values*, los predictores (variables independientes) con los que entrenaremos el modelo\n",
    "- *train_labels*, la variable target (dependiente) con la que entrenaremos el modelo\n",
    "- *test_values*, los predictores con los que validaremos el modelo y que nos darán teoricamente test_labels, que corresponden a las predicciones\n",
    "\n",
    "Hay que tener en cuenta que aunque tengamos los datos train/test, aplicaremos luego la función train_test_split **solo sobre train_values y train_labels**.\n",
    "\n",
    "En el siguiente paso crearemos un df nuevo, *X_all*, que contiene todos los predictors, es decir de train y test, para realizar el preprocesado en un solo paso y no para los dos conjuntos individualmente. "
   ]
  },
  {
   "cell_type": "code",
   "execution_count": 3,
   "id": "activated-appearance",
   "metadata": {},
   "outputs": [
    {
     "name": "stdout",
     "output_type": "stream",
     "text": [
      "Dimensionalidad X_all:  (74250, 40)\n"
     ]
    }
   ],
   "source": [
    "# Combine df train_values and test_values to do preprocessing in one step\n",
    "X_all = pd.concat([train_values, test_values])\n",
    "print('Dimensionalidad X_all: ', X_all.shape)"
   ]
  },
  {
   "cell_type": "code",
   "execution_count": 4,
   "id": "atlantic-draft",
   "metadata": {},
   "outputs": [
    {
     "name": "stdout",
     "output_type": "stream",
     "text": [
      "Dimensionality train_values:  (59400, 40) , 80% of the data\n",
      "Dimensionality train_labels:  (59400, 2)\n",
      "Dimensionality test_values:  (14850, 40) , 20% of the data\n"
     ]
    }
   ],
   "source": [
    "# Check dimensionality\n",
    "print('Dimensionality train_values: ', train_values.shape,', 80% of the data')\n",
    "print('Dimensionality train_labels: ', train_labels.shape)\n",
    "print('Dimensionality test_values: ', test_values.shape,', 20% of the data')"
   ]
  },
  {
   "cell_type": "markdown",
   "id": "ambient-gates",
   "metadata": {},
   "source": [
    "#### Predictores"
   ]
  },
  {
   "cell_type": "code",
   "execution_count": 5,
   "id": "greenhouse-wings",
   "metadata": {
    "scrolled": true
   },
   "outputs": [
    {
     "name": "stdout",
     "output_type": "stream",
     "text": [
      "(59400, 40)\n"
     ]
    },
    {
     "data": {
      "text/html": [
       "<div>\n",
       "<style scoped>\n",
       "    .dataframe tbody tr th:only-of-type {\n",
       "        vertical-align: middle;\n",
       "    }\n",
       "\n",
       "    .dataframe tbody tr th {\n",
       "        vertical-align: top;\n",
       "    }\n",
       "\n",
       "    .dataframe thead th {\n",
       "        text-align: right;\n",
       "    }\n",
       "</style>\n",
       "<table border=\"1\" class=\"dataframe\">\n",
       "  <thead>\n",
       "    <tr style=\"text-align: right;\">\n",
       "      <th></th>\n",
       "      <th>id</th>\n",
       "      <th>amount_tsh</th>\n",
       "      <th>date_recorded</th>\n",
       "      <th>funder</th>\n",
       "      <th>gps_height</th>\n",
       "      <th>installer</th>\n",
       "      <th>longitude</th>\n",
       "      <th>latitude</th>\n",
       "      <th>wpt_name</th>\n",
       "      <th>num_private</th>\n",
       "      <th>basin</th>\n",
       "      <th>subvillage</th>\n",
       "      <th>region</th>\n",
       "      <th>region_code</th>\n",
       "      <th>district_code</th>\n",
       "      <th>lga</th>\n",
       "      <th>ward</th>\n",
       "      <th>population</th>\n",
       "      <th>public_meeting</th>\n",
       "      <th>recorded_by</th>\n",
       "      <th>scheme_management</th>\n",
       "      <th>scheme_name</th>\n",
       "      <th>permit</th>\n",
       "      <th>construction_year</th>\n",
       "      <th>extraction_type</th>\n",
       "      <th>extraction_type_group</th>\n",
       "      <th>extraction_type_class</th>\n",
       "      <th>management</th>\n",
       "      <th>management_group</th>\n",
       "      <th>payment</th>\n",
       "      <th>payment_type</th>\n",
       "      <th>water_quality</th>\n",
       "      <th>quality_group</th>\n",
       "      <th>quantity</th>\n",
       "      <th>quantity_group</th>\n",
       "      <th>source</th>\n",
       "      <th>source_type</th>\n",
       "      <th>source_class</th>\n",
       "      <th>waterpoint_type</th>\n",
       "      <th>waterpoint_type_group</th>\n",
       "    </tr>\n",
       "  </thead>\n",
       "  <tbody>\n",
       "    <tr>\n",
       "      <th>0</th>\n",
       "      <td>69572</td>\n",
       "      <td>6000.0</td>\n",
       "      <td>2011-03-14</td>\n",
       "      <td>Roman</td>\n",
       "      <td>1390</td>\n",
       "      <td>Roman</td>\n",
       "      <td>34.938093</td>\n",
       "      <td>-9.856322</td>\n",
       "      <td>none</td>\n",
       "      <td>0</td>\n",
       "      <td>Lake Nyasa</td>\n",
       "      <td>Mnyusi B</td>\n",
       "      <td>Iringa</td>\n",
       "      <td>11</td>\n",
       "      <td>5</td>\n",
       "      <td>Ludewa</td>\n",
       "      <td>Mundindi</td>\n",
       "      <td>109</td>\n",
       "      <td>True</td>\n",
       "      <td>GeoData Consultants Ltd</td>\n",
       "      <td>VWC</td>\n",
       "      <td>Roman</td>\n",
       "      <td>False</td>\n",
       "      <td>1999</td>\n",
       "      <td>gravity</td>\n",
       "      <td>gravity</td>\n",
       "      <td>gravity</td>\n",
       "      <td>vwc</td>\n",
       "      <td>user-group</td>\n",
       "      <td>pay annually</td>\n",
       "      <td>annually</td>\n",
       "      <td>soft</td>\n",
       "      <td>good</td>\n",
       "      <td>enough</td>\n",
       "      <td>enough</td>\n",
       "      <td>spring</td>\n",
       "      <td>spring</td>\n",
       "      <td>groundwater</td>\n",
       "      <td>communal standpipe</td>\n",
       "      <td>communal standpipe</td>\n",
       "    </tr>\n",
       "    <tr>\n",
       "      <th>1</th>\n",
       "      <td>8776</td>\n",
       "      <td>0.0</td>\n",
       "      <td>2013-03-06</td>\n",
       "      <td>Grumeti</td>\n",
       "      <td>1399</td>\n",
       "      <td>GRUMETI</td>\n",
       "      <td>34.698766</td>\n",
       "      <td>-2.147466</td>\n",
       "      <td>Zahanati</td>\n",
       "      <td>0</td>\n",
       "      <td>Lake Victoria</td>\n",
       "      <td>Nyamara</td>\n",
       "      <td>Mara</td>\n",
       "      <td>20</td>\n",
       "      <td>2</td>\n",
       "      <td>Serengeti</td>\n",
       "      <td>Natta</td>\n",
       "      <td>280</td>\n",
       "      <td>NaN</td>\n",
       "      <td>GeoData Consultants Ltd</td>\n",
       "      <td>Other</td>\n",
       "      <td>NaN</td>\n",
       "      <td>True</td>\n",
       "      <td>2010</td>\n",
       "      <td>gravity</td>\n",
       "      <td>gravity</td>\n",
       "      <td>gravity</td>\n",
       "      <td>wug</td>\n",
       "      <td>user-group</td>\n",
       "      <td>never pay</td>\n",
       "      <td>never pay</td>\n",
       "      <td>soft</td>\n",
       "      <td>good</td>\n",
       "      <td>insufficient</td>\n",
       "      <td>insufficient</td>\n",
       "      <td>rainwater harvesting</td>\n",
       "      <td>rainwater harvesting</td>\n",
       "      <td>surface</td>\n",
       "      <td>communal standpipe</td>\n",
       "      <td>communal standpipe</td>\n",
       "    </tr>\n",
       "    <tr>\n",
       "      <th>2</th>\n",
       "      <td>34310</td>\n",
       "      <td>25.0</td>\n",
       "      <td>2013-02-25</td>\n",
       "      <td>Lottery Club</td>\n",
       "      <td>686</td>\n",
       "      <td>World vision</td>\n",
       "      <td>37.460664</td>\n",
       "      <td>-3.821329</td>\n",
       "      <td>Kwa Mahundi</td>\n",
       "      <td>0</td>\n",
       "      <td>Pangani</td>\n",
       "      <td>Majengo</td>\n",
       "      <td>Manyara</td>\n",
       "      <td>21</td>\n",
       "      <td>4</td>\n",
       "      <td>Simanjiro</td>\n",
       "      <td>Ngorika</td>\n",
       "      <td>250</td>\n",
       "      <td>True</td>\n",
       "      <td>GeoData Consultants Ltd</td>\n",
       "      <td>VWC</td>\n",
       "      <td>Nyumba ya mungu pipe scheme</td>\n",
       "      <td>True</td>\n",
       "      <td>2009</td>\n",
       "      <td>gravity</td>\n",
       "      <td>gravity</td>\n",
       "      <td>gravity</td>\n",
       "      <td>vwc</td>\n",
       "      <td>user-group</td>\n",
       "      <td>pay per bucket</td>\n",
       "      <td>per bucket</td>\n",
       "      <td>soft</td>\n",
       "      <td>good</td>\n",
       "      <td>enough</td>\n",
       "      <td>enough</td>\n",
       "      <td>dam</td>\n",
       "      <td>dam</td>\n",
       "      <td>surface</td>\n",
       "      <td>communal standpipe multiple</td>\n",
       "      <td>communal standpipe</td>\n",
       "    </tr>\n",
       "    <tr>\n",
       "      <th>3</th>\n",
       "      <td>67743</td>\n",
       "      <td>0.0</td>\n",
       "      <td>2013-01-28</td>\n",
       "      <td>Unicef</td>\n",
       "      <td>263</td>\n",
       "      <td>UNICEF</td>\n",
       "      <td>38.486161</td>\n",
       "      <td>-11.155298</td>\n",
       "      <td>Zahanati Ya Nanyumbu</td>\n",
       "      <td>0</td>\n",
       "      <td>Ruvuma / Southern Coast</td>\n",
       "      <td>Mahakamani</td>\n",
       "      <td>Mtwara</td>\n",
       "      <td>90</td>\n",
       "      <td>63</td>\n",
       "      <td>Nanyumbu</td>\n",
       "      <td>Nanyumbu</td>\n",
       "      <td>58</td>\n",
       "      <td>True</td>\n",
       "      <td>GeoData Consultants Ltd</td>\n",
       "      <td>VWC</td>\n",
       "      <td>NaN</td>\n",
       "      <td>True</td>\n",
       "      <td>1986</td>\n",
       "      <td>submersible</td>\n",
       "      <td>submersible</td>\n",
       "      <td>submersible</td>\n",
       "      <td>vwc</td>\n",
       "      <td>user-group</td>\n",
       "      <td>never pay</td>\n",
       "      <td>never pay</td>\n",
       "      <td>soft</td>\n",
       "      <td>good</td>\n",
       "      <td>dry</td>\n",
       "      <td>dry</td>\n",
       "      <td>machine dbh</td>\n",
       "      <td>borehole</td>\n",
       "      <td>groundwater</td>\n",
       "      <td>communal standpipe multiple</td>\n",
       "      <td>communal standpipe</td>\n",
       "    </tr>\n",
       "    <tr>\n",
       "      <th>4</th>\n",
       "      <td>19728</td>\n",
       "      <td>0.0</td>\n",
       "      <td>2011-07-13</td>\n",
       "      <td>Action In A</td>\n",
       "      <td>0</td>\n",
       "      <td>Artisan</td>\n",
       "      <td>31.130847</td>\n",
       "      <td>-1.825359</td>\n",
       "      <td>Shuleni</td>\n",
       "      <td>0</td>\n",
       "      <td>Lake Victoria</td>\n",
       "      <td>Kyanyamisa</td>\n",
       "      <td>Kagera</td>\n",
       "      <td>18</td>\n",
       "      <td>1</td>\n",
       "      <td>Karagwe</td>\n",
       "      <td>Nyakasimbi</td>\n",
       "      <td>0</td>\n",
       "      <td>True</td>\n",
       "      <td>GeoData Consultants Ltd</td>\n",
       "      <td>NaN</td>\n",
       "      <td>NaN</td>\n",
       "      <td>True</td>\n",
       "      <td>0</td>\n",
       "      <td>gravity</td>\n",
       "      <td>gravity</td>\n",
       "      <td>gravity</td>\n",
       "      <td>other</td>\n",
       "      <td>other</td>\n",
       "      <td>never pay</td>\n",
       "      <td>never pay</td>\n",
       "      <td>soft</td>\n",
       "      <td>good</td>\n",
       "      <td>seasonal</td>\n",
       "      <td>seasonal</td>\n",
       "      <td>rainwater harvesting</td>\n",
       "      <td>rainwater harvesting</td>\n",
       "      <td>surface</td>\n",
       "      <td>communal standpipe</td>\n",
       "      <td>communal standpipe</td>\n",
       "    </tr>\n",
       "  </tbody>\n",
       "</table>\n",
       "</div>"
      ],
      "text/plain": [
       "      id  amount_tsh date_recorded        funder  gps_height     installer  \\\n",
       "0  69572      6000.0    2011-03-14         Roman        1390         Roman   \n",
       "1   8776         0.0    2013-03-06       Grumeti        1399       GRUMETI   \n",
       "2  34310        25.0    2013-02-25  Lottery Club         686  World vision   \n",
       "3  67743         0.0    2013-01-28        Unicef         263        UNICEF   \n",
       "4  19728         0.0    2011-07-13   Action In A           0       Artisan   \n",
       "\n",
       "   longitude   latitude              wpt_name  num_private  \\\n",
       "0  34.938093  -9.856322                  none            0   \n",
       "1  34.698766  -2.147466              Zahanati            0   \n",
       "2  37.460664  -3.821329           Kwa Mahundi            0   \n",
       "3  38.486161 -11.155298  Zahanati Ya Nanyumbu            0   \n",
       "4  31.130847  -1.825359               Shuleni            0   \n",
       "\n",
       "                     basin  subvillage   region  region_code  district_code  \\\n",
       "0               Lake Nyasa    Mnyusi B   Iringa           11              5   \n",
       "1            Lake Victoria     Nyamara     Mara           20              2   \n",
       "2                  Pangani     Majengo  Manyara           21              4   \n",
       "3  Ruvuma / Southern Coast  Mahakamani   Mtwara           90             63   \n",
       "4            Lake Victoria  Kyanyamisa   Kagera           18              1   \n",
       "\n",
       "         lga        ward  population public_meeting              recorded_by  \\\n",
       "0     Ludewa    Mundindi         109           True  GeoData Consultants Ltd   \n",
       "1  Serengeti       Natta         280            NaN  GeoData Consultants Ltd   \n",
       "2  Simanjiro     Ngorika         250           True  GeoData Consultants Ltd   \n",
       "3   Nanyumbu    Nanyumbu          58           True  GeoData Consultants Ltd   \n",
       "4    Karagwe  Nyakasimbi           0           True  GeoData Consultants Ltd   \n",
       "\n",
       "  scheme_management                  scheme_name permit  construction_year  \\\n",
       "0               VWC                        Roman  False               1999   \n",
       "1             Other                          NaN   True               2010   \n",
       "2               VWC  Nyumba ya mungu pipe scheme   True               2009   \n",
       "3               VWC                          NaN   True               1986   \n",
       "4               NaN                          NaN   True                  0   \n",
       "\n",
       "  extraction_type extraction_type_group extraction_type_class management  \\\n",
       "0         gravity               gravity               gravity        vwc   \n",
       "1         gravity               gravity               gravity        wug   \n",
       "2         gravity               gravity               gravity        vwc   \n",
       "3     submersible           submersible           submersible        vwc   \n",
       "4         gravity               gravity               gravity      other   \n",
       "\n",
       "  management_group         payment payment_type water_quality quality_group  \\\n",
       "0       user-group    pay annually     annually          soft          good   \n",
       "1       user-group       never pay    never pay          soft          good   \n",
       "2       user-group  pay per bucket   per bucket          soft          good   \n",
       "3       user-group       never pay    never pay          soft          good   \n",
       "4            other       never pay    never pay          soft          good   \n",
       "\n",
       "       quantity quantity_group                source           source_type  \\\n",
       "0        enough         enough                spring                spring   \n",
       "1  insufficient   insufficient  rainwater harvesting  rainwater harvesting   \n",
       "2        enough         enough                   dam                   dam   \n",
       "3           dry            dry           machine dbh              borehole   \n",
       "4      seasonal       seasonal  rainwater harvesting  rainwater harvesting   \n",
       "\n",
       "  source_class              waterpoint_type waterpoint_type_group  \n",
       "0  groundwater           communal standpipe    communal standpipe  \n",
       "1      surface           communal standpipe    communal standpipe  \n",
       "2      surface  communal standpipe multiple    communal standpipe  \n",
       "3  groundwater  communal standpipe multiple    communal standpipe  \n",
       "4      surface           communal standpipe    communal standpipe  "
      ]
     },
     "execution_count": 5,
     "metadata": {},
     "output_type": "execute_result"
    }
   ],
   "source": [
    "pd.options.display.max_columns = None\n",
    "print(train_values.shape)\n",
    "train_values.head()"
   ]
  },
  {
   "cell_type": "code",
   "execution_count": 6,
   "id": "acute-packing",
   "metadata": {},
   "outputs": [
    {
     "name": "stdout",
     "output_type": "stream",
     "text": [
      "(14850, 40)\n"
     ]
    },
    {
     "data": {
      "text/html": [
       "<div>\n",
       "<style scoped>\n",
       "    .dataframe tbody tr th:only-of-type {\n",
       "        vertical-align: middle;\n",
       "    }\n",
       "\n",
       "    .dataframe tbody tr th {\n",
       "        vertical-align: top;\n",
       "    }\n",
       "\n",
       "    .dataframe thead th {\n",
       "        text-align: right;\n",
       "    }\n",
       "</style>\n",
       "<table border=\"1\" class=\"dataframe\">\n",
       "  <thead>\n",
       "    <tr style=\"text-align: right;\">\n",
       "      <th></th>\n",
       "      <th>id</th>\n",
       "      <th>amount_tsh</th>\n",
       "      <th>date_recorded</th>\n",
       "      <th>funder</th>\n",
       "      <th>gps_height</th>\n",
       "      <th>installer</th>\n",
       "      <th>longitude</th>\n",
       "      <th>latitude</th>\n",
       "      <th>wpt_name</th>\n",
       "      <th>num_private</th>\n",
       "      <th>basin</th>\n",
       "      <th>subvillage</th>\n",
       "      <th>region</th>\n",
       "      <th>region_code</th>\n",
       "      <th>district_code</th>\n",
       "      <th>lga</th>\n",
       "      <th>ward</th>\n",
       "      <th>population</th>\n",
       "      <th>public_meeting</th>\n",
       "      <th>recorded_by</th>\n",
       "      <th>scheme_management</th>\n",
       "      <th>scheme_name</th>\n",
       "      <th>permit</th>\n",
       "      <th>construction_year</th>\n",
       "      <th>extraction_type</th>\n",
       "      <th>extraction_type_group</th>\n",
       "      <th>extraction_type_class</th>\n",
       "      <th>management</th>\n",
       "      <th>management_group</th>\n",
       "      <th>payment</th>\n",
       "      <th>payment_type</th>\n",
       "      <th>water_quality</th>\n",
       "      <th>quality_group</th>\n",
       "      <th>quantity</th>\n",
       "      <th>quantity_group</th>\n",
       "      <th>source</th>\n",
       "      <th>source_type</th>\n",
       "      <th>source_class</th>\n",
       "      <th>waterpoint_type</th>\n",
       "      <th>waterpoint_type_group</th>\n",
       "    </tr>\n",
       "  </thead>\n",
       "  <tbody>\n",
       "    <tr>\n",
       "      <th>0</th>\n",
       "      <td>50785</td>\n",
       "      <td>0.0</td>\n",
       "      <td>2013-02-04</td>\n",
       "      <td>Dmdd</td>\n",
       "      <td>1996</td>\n",
       "      <td>DMDD</td>\n",
       "      <td>35.290799</td>\n",
       "      <td>-4.059696</td>\n",
       "      <td>Dinamu Secondary School</td>\n",
       "      <td>0</td>\n",
       "      <td>Internal</td>\n",
       "      <td>Magoma</td>\n",
       "      <td>Manyara</td>\n",
       "      <td>21</td>\n",
       "      <td>3</td>\n",
       "      <td>Mbulu</td>\n",
       "      <td>Bashay</td>\n",
       "      <td>321</td>\n",
       "      <td>True</td>\n",
       "      <td>GeoData Consultants Ltd</td>\n",
       "      <td>Parastatal</td>\n",
       "      <td>NaN</td>\n",
       "      <td>True</td>\n",
       "      <td>2012</td>\n",
       "      <td>other</td>\n",
       "      <td>other</td>\n",
       "      <td>other</td>\n",
       "      <td>parastatal</td>\n",
       "      <td>parastatal</td>\n",
       "      <td>never pay</td>\n",
       "      <td>never pay</td>\n",
       "      <td>soft</td>\n",
       "      <td>good</td>\n",
       "      <td>seasonal</td>\n",
       "      <td>seasonal</td>\n",
       "      <td>rainwater harvesting</td>\n",
       "      <td>rainwater harvesting</td>\n",
       "      <td>surface</td>\n",
       "      <td>other</td>\n",
       "      <td>other</td>\n",
       "    </tr>\n",
       "    <tr>\n",
       "      <th>1</th>\n",
       "      <td>51630</td>\n",
       "      <td>0.0</td>\n",
       "      <td>2013-02-04</td>\n",
       "      <td>Government Of Tanzania</td>\n",
       "      <td>1569</td>\n",
       "      <td>DWE</td>\n",
       "      <td>36.656709</td>\n",
       "      <td>-3.309214</td>\n",
       "      <td>Kimnyak</td>\n",
       "      <td>0</td>\n",
       "      <td>Pangani</td>\n",
       "      <td>Kimnyak</td>\n",
       "      <td>Arusha</td>\n",
       "      <td>2</td>\n",
       "      <td>2</td>\n",
       "      <td>Arusha Rural</td>\n",
       "      <td>Kimnyaki</td>\n",
       "      <td>300</td>\n",
       "      <td>True</td>\n",
       "      <td>GeoData Consultants Ltd</td>\n",
       "      <td>VWC</td>\n",
       "      <td>TPRI pipe line</td>\n",
       "      <td>True</td>\n",
       "      <td>2000</td>\n",
       "      <td>gravity</td>\n",
       "      <td>gravity</td>\n",
       "      <td>gravity</td>\n",
       "      <td>vwc</td>\n",
       "      <td>user-group</td>\n",
       "      <td>never pay</td>\n",
       "      <td>never pay</td>\n",
       "      <td>soft</td>\n",
       "      <td>good</td>\n",
       "      <td>insufficient</td>\n",
       "      <td>insufficient</td>\n",
       "      <td>spring</td>\n",
       "      <td>spring</td>\n",
       "      <td>groundwater</td>\n",
       "      <td>communal standpipe</td>\n",
       "      <td>communal standpipe</td>\n",
       "    </tr>\n",
       "    <tr>\n",
       "      <th>2</th>\n",
       "      <td>17168</td>\n",
       "      <td>0.0</td>\n",
       "      <td>2013-02-01</td>\n",
       "      <td>NaN</td>\n",
       "      <td>1567</td>\n",
       "      <td>NaN</td>\n",
       "      <td>34.767863</td>\n",
       "      <td>-5.004344</td>\n",
       "      <td>Puma Secondary</td>\n",
       "      <td>0</td>\n",
       "      <td>Internal</td>\n",
       "      <td>Msatu</td>\n",
       "      <td>Singida</td>\n",
       "      <td>13</td>\n",
       "      <td>2</td>\n",
       "      <td>Singida Rural</td>\n",
       "      <td>Puma</td>\n",
       "      <td>500</td>\n",
       "      <td>True</td>\n",
       "      <td>GeoData Consultants Ltd</td>\n",
       "      <td>VWC</td>\n",
       "      <td>P</td>\n",
       "      <td>NaN</td>\n",
       "      <td>2010</td>\n",
       "      <td>other</td>\n",
       "      <td>other</td>\n",
       "      <td>other</td>\n",
       "      <td>vwc</td>\n",
       "      <td>user-group</td>\n",
       "      <td>never pay</td>\n",
       "      <td>never pay</td>\n",
       "      <td>soft</td>\n",
       "      <td>good</td>\n",
       "      <td>insufficient</td>\n",
       "      <td>insufficient</td>\n",
       "      <td>rainwater harvesting</td>\n",
       "      <td>rainwater harvesting</td>\n",
       "      <td>surface</td>\n",
       "      <td>other</td>\n",
       "      <td>other</td>\n",
       "    </tr>\n",
       "    <tr>\n",
       "      <th>3</th>\n",
       "      <td>45559</td>\n",
       "      <td>0.0</td>\n",
       "      <td>2013-01-22</td>\n",
       "      <td>Finn Water</td>\n",
       "      <td>267</td>\n",
       "      <td>FINN WATER</td>\n",
       "      <td>38.058046</td>\n",
       "      <td>-9.418672</td>\n",
       "      <td>Kwa Mzee Pange</td>\n",
       "      <td>0</td>\n",
       "      <td>Ruvuma / Southern Coast</td>\n",
       "      <td>Kipindimbi</td>\n",
       "      <td>Lindi</td>\n",
       "      <td>80</td>\n",
       "      <td>43</td>\n",
       "      <td>Liwale</td>\n",
       "      <td>Mkutano</td>\n",
       "      <td>250</td>\n",
       "      <td>NaN</td>\n",
       "      <td>GeoData Consultants Ltd</td>\n",
       "      <td>VWC</td>\n",
       "      <td>NaN</td>\n",
       "      <td>True</td>\n",
       "      <td>1987</td>\n",
       "      <td>other</td>\n",
       "      <td>other</td>\n",
       "      <td>other</td>\n",
       "      <td>vwc</td>\n",
       "      <td>user-group</td>\n",
       "      <td>unknown</td>\n",
       "      <td>unknown</td>\n",
       "      <td>soft</td>\n",
       "      <td>good</td>\n",
       "      <td>dry</td>\n",
       "      <td>dry</td>\n",
       "      <td>shallow well</td>\n",
       "      <td>shallow well</td>\n",
       "      <td>groundwater</td>\n",
       "      <td>other</td>\n",
       "      <td>other</td>\n",
       "    </tr>\n",
       "    <tr>\n",
       "      <th>4</th>\n",
       "      <td>49871</td>\n",
       "      <td>500.0</td>\n",
       "      <td>2013-03-27</td>\n",
       "      <td>Bruder</td>\n",
       "      <td>1260</td>\n",
       "      <td>BRUDER</td>\n",
       "      <td>35.006123</td>\n",
       "      <td>-10.950412</td>\n",
       "      <td>Kwa Mzee Turuka</td>\n",
       "      <td>0</td>\n",
       "      <td>Ruvuma / Southern Coast</td>\n",
       "      <td>Losonga</td>\n",
       "      <td>Ruvuma</td>\n",
       "      <td>10</td>\n",
       "      <td>3</td>\n",
       "      <td>Mbinga</td>\n",
       "      <td>Mbinga Urban</td>\n",
       "      <td>60</td>\n",
       "      <td>NaN</td>\n",
       "      <td>GeoData Consultants Ltd</td>\n",
       "      <td>Water Board</td>\n",
       "      <td>BRUDER</td>\n",
       "      <td>True</td>\n",
       "      <td>2000</td>\n",
       "      <td>gravity</td>\n",
       "      <td>gravity</td>\n",
       "      <td>gravity</td>\n",
       "      <td>water board</td>\n",
       "      <td>user-group</td>\n",
       "      <td>pay monthly</td>\n",
       "      <td>monthly</td>\n",
       "      <td>soft</td>\n",
       "      <td>good</td>\n",
       "      <td>enough</td>\n",
       "      <td>enough</td>\n",
       "      <td>spring</td>\n",
       "      <td>spring</td>\n",
       "      <td>groundwater</td>\n",
       "      <td>communal standpipe</td>\n",
       "      <td>communal standpipe</td>\n",
       "    </tr>\n",
       "  </tbody>\n",
       "</table>\n",
       "</div>"
      ],
      "text/plain": [
       "      id  amount_tsh date_recorded                  funder  gps_height  \\\n",
       "0  50785         0.0    2013-02-04                    Dmdd        1996   \n",
       "1  51630         0.0    2013-02-04  Government Of Tanzania        1569   \n",
       "2  17168         0.0    2013-02-01                     NaN        1567   \n",
       "3  45559         0.0    2013-01-22              Finn Water         267   \n",
       "4  49871       500.0    2013-03-27                  Bruder        1260   \n",
       "\n",
       "    installer  longitude   latitude                 wpt_name  num_private  \\\n",
       "0        DMDD  35.290799  -4.059696  Dinamu Secondary School            0   \n",
       "1         DWE  36.656709  -3.309214                  Kimnyak            0   \n",
       "2         NaN  34.767863  -5.004344           Puma Secondary            0   \n",
       "3  FINN WATER  38.058046  -9.418672           Kwa Mzee Pange            0   \n",
       "4      BRUDER  35.006123 -10.950412          Kwa Mzee Turuka            0   \n",
       "\n",
       "                     basin  subvillage   region  region_code  district_code  \\\n",
       "0                 Internal      Magoma  Manyara           21              3   \n",
       "1                  Pangani     Kimnyak   Arusha            2              2   \n",
       "2                 Internal       Msatu  Singida           13              2   \n",
       "3  Ruvuma / Southern Coast  Kipindimbi    Lindi           80             43   \n",
       "4  Ruvuma / Southern Coast     Losonga   Ruvuma           10              3   \n",
       "\n",
       "             lga          ward  population public_meeting  \\\n",
       "0          Mbulu        Bashay         321           True   \n",
       "1   Arusha Rural      Kimnyaki         300           True   \n",
       "2  Singida Rural          Puma         500           True   \n",
       "3         Liwale       Mkutano         250            NaN   \n",
       "4         Mbinga  Mbinga Urban          60            NaN   \n",
       "\n",
       "               recorded_by scheme_management     scheme_name permit  \\\n",
       "0  GeoData Consultants Ltd        Parastatal             NaN   True   \n",
       "1  GeoData Consultants Ltd               VWC  TPRI pipe line   True   \n",
       "2  GeoData Consultants Ltd               VWC               P    NaN   \n",
       "3  GeoData Consultants Ltd               VWC             NaN   True   \n",
       "4  GeoData Consultants Ltd       Water Board          BRUDER   True   \n",
       "\n",
       "   construction_year extraction_type extraction_type_group  \\\n",
       "0               2012           other                 other   \n",
       "1               2000         gravity               gravity   \n",
       "2               2010           other                 other   \n",
       "3               1987           other                 other   \n",
       "4               2000         gravity               gravity   \n",
       "\n",
       "  extraction_type_class   management management_group      payment  \\\n",
       "0                 other   parastatal       parastatal    never pay   \n",
       "1               gravity          vwc       user-group    never pay   \n",
       "2                 other          vwc       user-group    never pay   \n",
       "3                 other          vwc       user-group      unknown   \n",
       "4               gravity  water board       user-group  pay monthly   \n",
       "\n",
       "  payment_type water_quality quality_group      quantity quantity_group  \\\n",
       "0    never pay          soft          good      seasonal       seasonal   \n",
       "1    never pay          soft          good  insufficient   insufficient   \n",
       "2    never pay          soft          good  insufficient   insufficient   \n",
       "3      unknown          soft          good           dry            dry   \n",
       "4      monthly          soft          good        enough         enough   \n",
       "\n",
       "                 source           source_type source_class  \\\n",
       "0  rainwater harvesting  rainwater harvesting      surface   \n",
       "1                spring                spring  groundwater   \n",
       "2  rainwater harvesting  rainwater harvesting      surface   \n",
       "3          shallow well          shallow well  groundwater   \n",
       "4                spring                spring  groundwater   \n",
       "\n",
       "      waterpoint_type waterpoint_type_group  \n",
       "0               other                 other  \n",
       "1  communal standpipe    communal standpipe  \n",
       "2               other                 other  \n",
       "3               other                 other  \n",
       "4  communal standpipe    communal standpipe  "
      ]
     },
     "execution_count": 6,
     "metadata": {},
     "output_type": "execute_result"
    }
   ],
   "source": [
    "print(test_values.shape)\n",
    "test_values.head()"
   ]
  },
  {
   "cell_type": "markdown",
   "id": "acquired-remove",
   "metadata": {},
   "source": [
    "#### Variable target"
   ]
  },
  {
   "cell_type": "code",
   "execution_count": 7,
   "id": "small-cooper",
   "metadata": {},
   "outputs": [
    {
     "name": "stdout",
     "output_type": "stream",
     "text": [
      "(59400, 2)\n"
     ]
    },
    {
     "data": {
      "text/html": [
       "<div>\n",
       "<style scoped>\n",
       "    .dataframe tbody tr th:only-of-type {\n",
       "        vertical-align: middle;\n",
       "    }\n",
       "\n",
       "    .dataframe tbody tr th {\n",
       "        vertical-align: top;\n",
       "    }\n",
       "\n",
       "    .dataframe thead th {\n",
       "        text-align: right;\n",
       "    }\n",
       "</style>\n",
       "<table border=\"1\" class=\"dataframe\">\n",
       "  <thead>\n",
       "    <tr style=\"text-align: right;\">\n",
       "      <th></th>\n",
       "      <th>id</th>\n",
       "      <th>status_group</th>\n",
       "    </tr>\n",
       "  </thead>\n",
       "  <tbody>\n",
       "    <tr>\n",
       "      <th>0</th>\n",
       "      <td>69572</td>\n",
       "      <td>functional</td>\n",
       "    </tr>\n",
       "    <tr>\n",
       "      <th>1</th>\n",
       "      <td>8776</td>\n",
       "      <td>functional</td>\n",
       "    </tr>\n",
       "    <tr>\n",
       "      <th>2</th>\n",
       "      <td>34310</td>\n",
       "      <td>functional</td>\n",
       "    </tr>\n",
       "    <tr>\n",
       "      <th>3</th>\n",
       "      <td>67743</td>\n",
       "      <td>non functional</td>\n",
       "    </tr>\n",
       "    <tr>\n",
       "      <th>4</th>\n",
       "      <td>19728</td>\n",
       "      <td>functional</td>\n",
       "    </tr>\n",
       "  </tbody>\n",
       "</table>\n",
       "</div>"
      ],
      "text/plain": [
       "      id    status_group\n",
       "0  69572      functional\n",
       "1   8776      functional\n",
       "2  34310      functional\n",
       "3  67743  non functional\n",
       "4  19728      functional"
      ]
     },
     "execution_count": 7,
     "metadata": {},
     "output_type": "execute_result"
    }
   ],
   "source": [
    "print(train_labels.shape)\n",
    "train_labels.head()"
   ]
  },
  {
   "cell_type": "code",
   "execution_count": 8,
   "id": "presidential-blame",
   "metadata": {},
   "outputs": [
    {
     "name": "stdout",
     "output_type": "stream",
     "text": [
      "                         Counts  Percentage\n",
      "functional                32259   54.308081\n",
      "non functional            22824   38.424242\n",
      "functional needs repair    4317    7.267677\n"
     ]
    },
    {
     "data": {
      "text/plain": [
       "<AxesSubplot:>"
      ]
     },
     "execution_count": 8,
     "metadata": {},
     "output_type": "execute_result"
    },
    {
     "data": {
      "image/png": "[encoded data removed]",
      "text/plain": [
       "<Figure size 432x288 with 1 Axes>"
      ]
     },
     "metadata": {
      "needs_background": "light"
     },
     "output_type": "display_data"
    }
   ],
   "source": [
    "#Observations per category for target variable: \n",
    "print(pd.DataFrame({'Counts': train_labels['status_group'].value_counts(),\n",
    "                    'Percentage': train_labels['status_group'].value_counts()/len(train_labels)*100}))\n",
    "\n",
    "pd.value_counts(train_labels['status_group']).plot.bar()"
   ]
  },
  {
   "cell_type": "markdown",
   "id": "automotive-rotation",
   "metadata": {},
   "source": [
    "#### Inspección variable target con algunos predictores: "
   ]
  },
  {
   "cell_type": "code",
   "execution_count": 9,
   "id": "weighted-slave",
   "metadata": {},
   "outputs": [
    {
     "data": {
      "text/plain": [
       "<AxesSubplot:xlabel='water_quality'>"
      ]
     },
     "execution_count": 9,
     "metadata": {},
     "output_type": "execute_result"
    },
    {
     "data": {
      "image/png": "[encoded data removed]",
      "text/plain": [
       "<Figure size 864x432 with 1 Axes>"
      ]
     },
     "metadata": {
      "needs_background": "light"
     },
     "output_type": "display_data"
    }
   ],
   "source": [
    "#water_quality vs status_group\n",
    "pd.crosstab(train_values['water_quality'], train_labels['status_group']).plot.bar(stacked=True, figsize=(12,6))"
   ]
  },
  {
   "cell_type": "code",
   "execution_count": 10,
   "id": "verified-supervision",
   "metadata": {},
   "outputs": [
    {
     "data": {
      "text/plain": [
       "<AxesSubplot:xlabel='quantity'>"
      ]
     },
     "execution_count": 10,
     "metadata": {},
     "output_type": "execute_result"
    },
    {
     "data": {
      "image/png": "[encoded data removed]",
      "text/plain": [
       "<Figure size 864x432 with 1 Axes>"
      ]
     },
     "metadata": {
      "needs_background": "light"
     },
     "output_type": "display_data"
    }
   ],
   "source": [
    "#quantity vs status_group\n",
    "pd.crosstab(train_values['quantity'], train_labels['status_group']).plot.bar(stacked=True, figsize=(12,6))"
   ]
  },
  {
   "cell_type": "markdown",
   "id": "decreased-attitude",
   "metadata": {},
   "source": [
    "Podemos ver que nuestro conjunto de datos consiste de 59400 filas y 40 variables independientes que analizaremos en el siguiente apartado. Seguramente podremos recudir la dimensionalidad del conjunto, ya que parece a primera vista que hay algunas variables redundantes. \n",
    "El objetivo es predecir la variable categórica **status_group** que indica la funcionalidad de las bombas en tres niveles: *'functional'*, *'non functional'* y *'functional needs repair'*. En práctica estas predicciones se podrán utilizar para darle prioridad a las bombas que necesitan reparación o que no funcionan, y asi mejorar la distribución de agua en Tanzania.\n",
    "\n",
    "\n",
    "## 2. Exploratory Data Analysis (EDA)"
   ]
  },
  {
   "cell_type": "code",
   "execution_count": 11,
   "id": "widespread-duplicate",
   "metadata": {},
   "outputs": [
    {
     "data": {
      "text/html": [
       "<div>\n",
       "<style scoped>\n",
       "    .dataframe tbody tr th:only-of-type {\n",
       "        vertical-align: middle;\n",
       "    }\n",
       "\n",
       "    .dataframe tbody tr th {\n",
       "        vertical-align: top;\n",
       "    }\n",
       "\n",
       "    .dataframe thead th {\n",
       "        text-align: right;\n",
       "    }\n",
       "</style>\n",
       "<table border=\"1\" class=\"dataframe\">\n",
       "  <thead>\n",
       "    <tr style=\"text-align: right;\">\n",
       "      <th></th>\n",
       "      <th>id</th>\n",
       "      <th>amount_tsh</th>\n",
       "      <th>gps_height</th>\n",
       "      <th>longitude</th>\n",
       "      <th>latitude</th>\n",
       "      <th>num_private</th>\n",
       "      <th>region_code</th>\n",
       "      <th>district_code</th>\n",
       "      <th>population</th>\n",
       "      <th>construction_year</th>\n",
       "    </tr>\n",
       "  </thead>\n",
       "  <tbody>\n",
       "    <tr>\n",
       "      <th>count</th>\n",
       "      <td>74250.000000</td>\n",
       "      <td>74250.000000</td>\n",
       "      <td>74250.000000</td>\n",
       "      <td>74250.000000</td>\n",
       "      <td>7.425000e+04</td>\n",
       "      <td>74250.000000</td>\n",
       "      <td>74250.000000</td>\n",
       "      <td>74250.000000</td>\n",
       "      <td>74250.000000</td>\n",
       "      <td>74250.000000</td>\n",
       "    </tr>\n",
       "    <tr>\n",
       "      <th>mean</th>\n",
       "      <td>37124.500000</td>\n",
       "      <td>318.685704</td>\n",
       "      <td>665.667313</td>\n",
       "      <td>34.074262</td>\n",
       "      <td>-5.701771e+00</td>\n",
       "      <td>0.462330</td>\n",
       "      <td>15.265414</td>\n",
       "      <td>5.629077</td>\n",
       "      <td>180.750828</td>\n",
       "      <td>1298.463650</td>\n",
       "    </tr>\n",
       "    <tr>\n",
       "      <th>std</th>\n",
       "      <td>21434.273081</td>\n",
       "      <td>2906.762364</td>\n",
       "      <td>692.761033</td>\n",
       "      <td>6.572519</td>\n",
       "      <td>2.944969e+00</td>\n",
       "      <td>11.537879</td>\n",
       "      <td>17.508907</td>\n",
       "      <td>9.641636</td>\n",
       "      <td>471.086120</td>\n",
       "      <td>952.349375</td>\n",
       "    </tr>\n",
       "    <tr>\n",
       "      <th>min</th>\n",
       "      <td>0.000000</td>\n",
       "      <td>0.000000</td>\n",
       "      <td>-90.000000</td>\n",
       "      <td>0.000000</td>\n",
       "      <td>-1.164944e+01</td>\n",
       "      <td>0.000000</td>\n",
       "      <td>1.000000</td>\n",
       "      <td>0.000000</td>\n",
       "      <td>0.000000</td>\n",
       "      <td>0.000000</td>\n",
       "    </tr>\n",
       "    <tr>\n",
       "      <th>25%</th>\n",
       "      <td>18562.250000</td>\n",
       "      <td>0.000000</td>\n",
       "      <td>0.000000</td>\n",
       "      <td>33.086819</td>\n",
       "      <td>-8.525675e+00</td>\n",
       "      <td>0.000000</td>\n",
       "      <td>5.000000</td>\n",
       "      <td>2.000000</td>\n",
       "      <td>0.000000</td>\n",
       "      <td>0.000000</td>\n",
       "    </tr>\n",
       "    <tr>\n",
       "      <th>50%</th>\n",
       "      <td>37124.500000</td>\n",
       "      <td>0.000000</td>\n",
       "      <td>364.000000</td>\n",
       "      <td>34.907475</td>\n",
       "      <td>-5.026540e+00</td>\n",
       "      <td>0.000000</td>\n",
       "      <td>12.000000</td>\n",
       "      <td>3.000000</td>\n",
       "      <td>25.000000</td>\n",
       "      <td>1986.000000</td>\n",
       "    </tr>\n",
       "    <tr>\n",
       "      <th>75%</th>\n",
       "      <td>55686.750000</td>\n",
       "      <td>20.000000</td>\n",
       "      <td>1317.000000</td>\n",
       "      <td>37.181685</td>\n",
       "      <td>-3.325058e+00</td>\n",
       "      <td>0.000000</td>\n",
       "      <td>17.000000</td>\n",
       "      <td>5.000000</td>\n",
       "      <td>215.000000</td>\n",
       "      <td>2004.000000</td>\n",
       "    </tr>\n",
       "    <tr>\n",
       "      <th>max</th>\n",
       "      <td>74249.000000</td>\n",
       "      <td>350000.000000</td>\n",
       "      <td>2777.000000</td>\n",
       "      <td>40.345193</td>\n",
       "      <td>-2.000000e-08</td>\n",
       "      <td>1776.000000</td>\n",
       "      <td>99.000000</td>\n",
       "      <td>80.000000</td>\n",
       "      <td>30500.000000</td>\n",
       "      <td>2013.000000</td>\n",
       "    </tr>\n",
       "  </tbody>\n",
       "</table>\n",
       "</div>"
      ],
      "text/plain": [
       "                 id     amount_tsh    gps_height     longitude      latitude  \\\n",
       "count  74250.000000   74250.000000  74250.000000  74250.000000  7.425000e+04   \n",
       "mean   37124.500000     318.685704    665.667313     34.074262 -5.701771e+00   \n",
       "std    21434.273081    2906.762364    692.761033      6.572519  2.944969e+00   \n",
       "min        0.000000       0.000000    -90.000000      0.000000 -1.164944e+01   \n",
       "25%    18562.250000       0.000000      0.000000     33.086819 -8.525675e+00   \n",
       "50%    37124.500000       0.000000    364.000000     34.907475 -5.026540e+00   \n",
       "75%    55686.750000      20.000000   1317.000000     37.181685 -3.325058e+00   \n",
       "max    74249.000000  350000.000000   2777.000000     40.345193 -2.000000e-08   \n",
       "\n",
       "        num_private   region_code  district_code    population  \\\n",
       "count  74250.000000  74250.000000   74250.000000  74250.000000   \n",
       "mean       0.462330     15.265414       5.629077    180.750828   \n",
       "std       11.537879     17.508907       9.641636    471.086120   \n",
       "min        0.000000      1.000000       0.000000      0.000000   \n",
       "25%        0.000000      5.000000       2.000000      0.000000   \n",
       "50%        0.000000     12.000000       3.000000     25.000000   \n",
       "75%        0.000000     17.000000       5.000000    215.000000   \n",
       "max     1776.000000     99.000000      80.000000  30500.000000   \n",
       "\n",
       "       construction_year  \n",
       "count       74250.000000  \n",
       "mean         1298.463650  \n",
       "std           952.349375  \n",
       "min             0.000000  \n",
       "25%             0.000000  \n",
       "50%          1986.000000  \n",
       "75%          2004.000000  \n",
       "max          2013.000000  "
      ]
     },
     "execution_count": 11,
     "metadata": {},
     "output_type": "execute_result"
    }
   ],
   "source": [
    "X_all.describe()"
   ]
  },
  {
   "cell_type": "markdown",
   "id": "broken-hacker",
   "metadata": {},
   "source": [
    "Podemos intuir que en las variables numéricas hay algunas que tienen una distribución muy desequilibrada, como *amount_tsh*, *num_private* y *population*. En continuación veremos las distribuciones graficamente.\n",
    "\n",
    "Por los nombres da las variables además podríamos intuir que hay algunas variables que se repiten y que son redundantes. Esto puede ser una señal que exista **colinealidad** entre las variables, que es exactamente lo que intentaremos evitar.\n",
    "\n",
    "### 2.1 Distribuciones de las variables numéricas"
   ]
  },
  {
   "cell_type": "code",
   "execution_count": 12,
   "id": "criminal-accused",
   "metadata": {},
   "outputs": [
    {
     "data": {
      "image/png": "[encoded data removed]",
      "text/plain": [
       "<Figure size 432x288 with 1 Axes>"
      ]
     },
     "metadata": {
      "needs_background": "light"
     },
     "output_type": "display_data"
    },
    {
     "data": {
      "image/png": "[encoded data removed]",
      "text/plain": [
       "<Figure size 432x288 with 1 Axes>"
      ]
     },
     "metadata": {
      "needs_background": "light"
     },
     "output_type": "display_data"
    },
    {
     "data": {
      "image/png": "[encoded data removed]",
      "text/plain": [
       "<Figure size 432x288 with 1 Axes>"
      ]
     },
     "metadata": {
      "needs_background": "light"
     },
     "output_type": "display_data"
    },
    {
     "data": {
      "image/png": "[encoded data removed]",
      "text/plain": [
       "<Figure size 432x288 with 1 Axes>"
      ]
     },
     "metadata": {
      "needs_background": "light"
     },
     "output_type": "display_data"
    },
    {
     "data": {
      "image/png": "[encoded data removed]",
      "text/plain": [
       "<Figure size 432x288 with 1 Axes>"
      ]
     },
     "metadata": {
      "needs_background": "light"
     },
     "output_type": "display_data"
    },
    {
     "data": {
      "image/png": "[encoded data removed]",
      "text/plain": [
       "<Figure size 432x288 with 1 Axes>"
      ]
     },
     "metadata": {
      "needs_background": "light"
     },
     "output_type": "display_data"
    },
    {
     "data": {
      "image/png": "[encoded data removed]",
      "text/plain": [
       "<Figure size 432x288 with 1 Axes>"
      ]
     },
     "metadata": {
      "needs_background": "light"
     },
     "output_type": "display_data"
    },
    {
     "data": {
      "image/png": "[encoded data removed]",
      "text/plain": [
       "<Figure size 432x288 with 1 Axes>"
      ]
     },
     "metadata": {
      "needs_background": "light"
     },
     "output_type": "display_data"
    },
    {
     "data": {
      "image/png": "[encoded data removed]",
      "text/plain": [
       "<Figure size 432x288 with 1 Axes>"
      ]
     },
     "metadata": {
      "needs_background": "light"
     },
     "output_type": "display_data"
    },
    {
     "data": {
      "image/png": "[encoded data removed]",
      "text/plain": [
       "<Figure size 432x288 with 1 Axes>"
      ]
     },
     "metadata": {
      "needs_background": "light"
     },
     "output_type": "display_data"
    }
   ],
   "source": [
    "X_num = X_all[['id', 'amount_tsh', 'gps_height', 'longitude', 'latitude','num_private','region_code',\n",
    "                   'district_code','population','construction_year']]\n",
    "\n",
    "for col in X_num.columns: \n",
    "    plt.hist(X_num[col])\n",
    "    plt.title(col)\n",
    "    plt.show()"
   ]
  },
  {
   "cell_type": "code",
   "execution_count": 17,
   "id": "tired-seeker",
   "metadata": {},
   "outputs": [
    {
     "data": {
      "text/plain": [
       "0.9999663235031543"
      ]
     },
     "execution_count": 17,
     "metadata": {},
     "output_type": "execute_result"
    }
   ],
   "source": [
    "# ctegorical correlation\n",
    "from scipy.stats import chi2_contingency\n",
    "\n",
    "def cramers_v(x, y):\n",
    "    confusion_matrix = pd.crosstab(x,y)\n",
    "    chi2 = chi2_contingency(confusion_matrix)[0]\n",
    "    n = confusion_matrix.sum().sum()\n",
    "    phi2 = chi2/n\n",
    "    r,k = confusion_matrix.shape\n",
    "    phi2corr = max(0, phi2-((k-1)*(r-1))/(n-1))\n",
    "    rcorr = r-((r-1)**2)/(n-1)\n",
    "    kcorr = k-((k-1)**2)/(n-1)\n",
    "    return np.sqrt(phi2corr/min((kcorr-1),(rcorr-1)))"
   ]
  },
  {
   "cell_type": "code",
   "execution_count": 13,
   "id": "featured-magic",
   "metadata": {},
   "outputs": [
    {
     "data": {
      "image/png": "[encoded data removed]",
      "text/plain": [
       "<Figure size 1008x1008 with 2 Axes>"
      ]
     },
     "metadata": {
      "needs_background": "light"
     },
     "output_type": "display_data"
    }
   ],
   "source": [
    "# numerical correlation\n",
    "plt.figure(figsize=(14,14))\n",
    "cor = X_all.corr()\n",
    "sns.heatmap(cor, annot=True)\n",
    "plt.show()"
   ]
  },
  {
   "cell_type": "markdown",
   "id": "obvious-register",
   "metadata": {},
   "source": [
    "### 2.2 Variables con nombres parecidos\n",
    "Hay variables con nombres muy parecidos, que probablemente son redundantes y pueden ser eliminadas.\n",
    "#### 'extraction_type', 'extraction_type_group', 'extraction_type_class'"
   ]
  },
  {
   "cell_type": "code",
   "execution_count": 61,
   "id": "theoretical-channel",
   "metadata": {
    "scrolled": true
   },
   "outputs": [
    {
     "data": {
      "text/plain": [
       "extraction_type            extraction_type_group  extraction_type_class\n",
       "afridev                    afridev                handpump                  2208\n",
       "cemo                       other motorpump        motorpump                  108\n",
       "climax                     other motorpump        motorpump                   41\n",
       "gravity                    gravity                gravity                  33263\n",
       "india mark ii              india mark ii          handpump                  3029\n",
       "india mark iii             india mark iii         handpump                   135\n",
       "ksb                        submersible            submersible               1790\n",
       "mono                       mono                   motorpump                 3628\n",
       "nira/tanira                nira/tanira            handpump                 10205\n",
       "other                      other                  other                     8102\n",
       "other - mkulima/shinyanga  other handpump         handpump                     2\n",
       "other - play pump          other handpump         handpump                   101\n",
       "other - rope pump          rope pump              rope pump                  572\n",
       "other - swn 81             other handpump         handpump                   284\n",
       "submersible                submersible            submersible               5982\n",
       "swn 80                     swn 80                 handpump                  4588\n",
       "walimi                     other handpump         handpump                    60\n",
       "windmill                   wind-powered           wind-powered               152\n",
       "dtype: int64"
      ]
     },
     "execution_count": 61,
     "metadata": {},
     "output_type": "execute_result"
    }
   ],
   "source": [
    "X_all.groupby(['extraction_type', 'extraction_type_group', 'extraction_type_class']).size()"
   ]
  },
  {
   "cell_type": "markdown",
   "id": "entertaining-liability",
   "metadata": {},
   "source": [
    "- Quitamos 'extraction_type' y 'extraction_type_group'\n",
    "\n",
    "#### 'management', 'management_group', 'scheme_management',"
   ]
  },
  {
   "cell_type": "code",
   "execution_count": 62,
   "id": "built-renewal",
   "metadata": {},
   "outputs": [
    {
     "data": {
      "text/plain": [
       "management  management_group  scheme_management\n",
       "company     commercial        Company               848\n",
       "                              Private operator        2\n",
       "                              Trust                   1\n",
       "                              VWC                     2\n",
       "                              WUA                     1\n",
       "                                                   ... \n",
       "wug         user-group        VWC                  1007\n",
       "                              WUA                    55\n",
       "                              WUG                  5953\n",
       "                              Water Board           139\n",
       "                              Water authority        19\n",
       "Length: 86, dtype: int64"
      ]
     },
     "execution_count": 62,
     "metadata": {},
     "output_type": "execute_result"
    }
   ],
   "source": [
    "X_all.groupby(['management', 'management_group', 'scheme_management']).size()"
   ]
  },
  {
   "cell_type": "markdown",
   "id": "traditional-screw",
   "metadata": {},
   "source": [
    "- Quitamos 'management_group' y 'scheme_management'\n",
    "\n",
    "#### 'payment', 'payment_type'"
   ]
  },
  {
   "cell_type": "code",
   "execution_count": 63,
   "id": "stylish-discipline",
   "metadata": {},
   "outputs": [
    {
     "data": {
      "text/plain": [
       "payment                payment_type\n",
       "never pay              never pay       31712\n",
       "other                  other            1314\n",
       "pay annually           annually         4570\n",
       "pay monthly            monthly         10397\n",
       "pay per bucket         per bucket      11266\n",
       "pay when scheme fails  on failure       4842\n",
       "unknown                unknown         10149\n",
       "dtype: int64"
      ]
     },
     "execution_count": 63,
     "metadata": {},
     "output_type": "execute_result"
    }
   ],
   "source": [
    "X_all.groupby(['payment', 'payment_type']).size()"
   ]
  },
  {
   "cell_type": "markdown",
   "id": "democratic-notice",
   "metadata": {},
   "source": [
    "-  Quitamos 'payment'\n",
    "\n",
    "#### 'water_quality', 'quality_group'"
   ]
  },
  {
   "cell_type": "code",
   "execution_count": 64,
   "id": "junior-ranking",
   "metadata": {},
   "outputs": [
    {
     "data": {
      "text/plain": [
       "water_quality       quality_group\n",
       "coloured            colored            623\n",
       "fluoride            fluoride           244\n",
       "fluoride abandoned  fluoride            23\n",
       "milky               milky             1005\n",
       "salty               salty             6082\n",
       "salty abandoned     salty              423\n",
       "soft                good             63505\n",
       "unknown             unknown           2345\n",
       "dtype: int64"
      ]
     },
     "execution_count": 64,
     "metadata": {},
     "output_type": "execute_result"
    }
   ],
   "source": [
    "X_all.groupby(['water_quality', 'quality_group']).size()"
   ]
  },
  {
   "cell_type": "markdown",
   "id": "going-mitchell",
   "metadata": {},
   "source": [
    "- Quitamos 'quality_group'\n",
    "\n",
    "#### 'quantity', 'quantity_group'"
   ]
  },
  {
   "cell_type": "code",
   "execution_count": 65,
   "id": "increased-velvet",
   "metadata": {},
   "outputs": [
    {
     "data": {
      "text/plain": [
       "quantity      quantity_group\n",
       "dry           dry                7782\n",
       "enough        enough            41522\n",
       "insufficient  insufficient      18896\n",
       "seasonal      seasonal           5075\n",
       "unknown       unknown             975\n",
       "dtype: int64"
      ]
     },
     "execution_count": 65,
     "metadata": {},
     "output_type": "execute_result"
    }
   ],
   "source": [
    "X_all.groupby(['quantity', 'quantity_group']).size()"
   ]
  },
  {
   "cell_type": "markdown",
   "id": "expanded-vaccine",
   "metadata": {},
   "source": [
    "- Quitamos 'quantity_group'\n",
    "\n",
    "#### 'source', 'source_type', 'source_class'"
   ]
  },
  {
   "cell_type": "code",
   "execution_count": 66,
   "id": "premium-obligation",
   "metadata": {},
   "outputs": [
    {
     "data": {
      "text/plain": [
       "source                source_type           source_class\n",
       "dam                   dam                   surface           840\n",
       "hand dtw              borehole              groundwater      1108\n",
       "lake                  river/lake            surface           950\n",
       "machine dbh           borehole              groundwater     13822\n",
       "other                 other                 unknown           261\n",
       "rainwater harvesting  rainwater harvesting  surface          2863\n",
       "river                 river/lake            surface         11964\n",
       "shallow well          shallow well          groundwater     21140\n",
       "spring                spring                groundwater     21216\n",
       "unknown               other                 unknown            86\n",
       "dtype: int64"
      ]
     },
     "execution_count": 66,
     "metadata": {},
     "output_type": "execute_result"
    }
   ],
   "source": [
    "X_all.groupby(['source', 'source_type', 'source_class']).size()"
   ]
  },
  {
   "cell_type": "markdown",
   "id": "equipped-jonathan",
   "metadata": {},
   "source": [
    "- Quitamos 'source_type'\n",
    "\n",
    "#### 'waterpoint_type', 'waterpoint_type_group'"
   ]
  },
  {
   "cell_type": "code",
   "execution_count": 67,
   "id": "historic-setup",
   "metadata": {
    "scrolled": true
   },
   "outputs": [
    {
     "data": {
      "text/plain": [
       "waterpoint_type              waterpoint_type_group\n",
       "cattle trough                cattle trough              150\n",
       "communal standpipe           communal standpipe       35628\n",
       "communal standpipe multiple  communal standpipe        7611\n",
       "dam                          dam                          8\n",
       "hand pump                    hand pump                21884\n",
       "improved spring              improved spring            959\n",
       "other                        other                     8010\n",
       "dtype: int64"
      ]
     },
     "execution_count": 67,
     "metadata": {},
     "output_type": "execute_result"
    }
   ],
   "source": [
    "X_all.groupby(['waterpoint_type', 'waterpoint_type_group']).size()"
   ]
  },
  {
   "cell_type": "markdown",
   "id": "elect-obligation",
   "metadata": {},
   "source": [
    "- Quitamos 'waterpoint_type_group'\n",
    "\n",
    "Vemos que de las variables que comparamos todas tienen las mismas categorias o categorias similares, por lo cual se pueden eliminar las variables redundantes.\n",
    "\n",
    "### 2.3 Feature Selection preliminar \n",
    "Dado que hemos observado variables redundantes, quitaremos esas variables del conjunto, para hacer la analisis posterior más simple y claro."
   ]
  },
  {
   "cell_type": "code",
   "execution_count": 68,
   "id": "otherwise-montreal",
   "metadata": {},
   "outputs": [],
   "source": [
    "# Delete redundant variables\n",
    "drop_cols = ['extraction_type', \n",
    "             'extraction_type_group',\n",
    "             'management_group',\n",
    "             'scheme_management',\n",
    "             'payment',\n",
    "             'quality_group',\n",
    "             'quantity_group',\n",
    "             'source_type',\n",
    "             'waterpoint_type_group']\n",
    "\n",
    "X_all.drop(drop_cols, axis=1, inplace=True)"
   ]
  },
  {
   "cell_type": "markdown",
   "id": "imperial-rochester",
   "metadata": {},
   "source": [
    "#### Cardinalidad de cada variable"
   ]
  },
  {
   "cell_type": "code",
   "execution_count": 69,
   "id": "angry-boards",
   "metadata": {},
   "outputs": [
    {
     "name": "stdout",
     "output_type": "stream",
     "text": [
      "('recorded_by', 1)\n",
      "('public_meeting', 2)\n",
      "('permit', 2)\n",
      "('quantity', 5)\n",
      "('extraction_type_class', 7)\n",
      "('payment_type', 7)\n",
      "('waterpoint_type', 7)\n",
      "('water_quality', 8)\n",
      "('basin', 9)\n",
      "('source', 10)\n",
      "('management', 12)\n",
      "('region', 21)\n",
      "('lga', 125)\n",
      "('date_recorded', 369)\n",
      "('ward', 2098)\n",
      "('funder', 2140)\n",
      "('installer', 2410)\n",
      "('scheme_name', 2868)\n",
      "('subvillage', 21425)\n",
      "('wpt_name', 45684)\n"
     ]
    }
   ],
   "source": [
    "# Get number of unique entries in each column with categorical data\n",
    "def unique_per_col(df): \n",
    "    #Selecting only categorical cols\n",
    "    cols = (df.dtypes == 'object')\n",
    "    object_cols = list(cols[cols].index)\n",
    "    #Count unique values\n",
    "    object_nunique = list(map(lambda col: df[col].nunique(), object_cols))\n",
    "    d = dict(zip(object_cols, object_nunique))\n",
    "    #Print number of unique entries by column, in ascending order\n",
    "    for row in sorted(d.items(), key=lambda x: x[1]):\n",
    "        print(row)\n",
    "    \n",
    "unique_per_col(X_all)"
   ]
  },
  {
   "cell_type": "markdown",
   "id": "worthy-hudson",
   "metadata": {},
   "source": [
    "#### To-do: \n",
    "- quitar *wpt_name*, ya que tiene muchas categorias y no aportará al modelo \n",
    "- quitar *subvillage*, muchas categorias\n",
    "- quitar *region*, porque region_code contiene la misma información y ya es numérica\n",
    "- quitar *ward*, muchas categorias\n",
    "- quitar *recorded_by*, porque solo tiene un valor (varianza = 0) y no va a aportar a mejorar la capacidad predictiva del modelo \n",
    "- quitar *lga*, muchas categorias y además tenemos los region_code para indicar la ubicación"
   ]
  },
  {
   "cell_type": "code",
   "execution_count": 70,
   "id": "south-ambassador",
   "metadata": {},
   "outputs": [],
   "source": [
    "# Delete cols\n",
    "drop_cols = ['wpt_name', \n",
    "             'subvillage', \n",
    "             'region', \n",
    "             'ward', \n",
    "             'recorded_by',\n",
    "             'lga']\n",
    "\n",
    "X_all.drop(drop_cols, axis=1, inplace=True)"
   ]
  },
  {
   "cell_type": "markdown",
   "id": "collected-notebook",
   "metadata": {},
   "source": [
    "#### Correlaciones entre variables\n",
    "Sospechamos que habran algunas variables correlacionadas. Las que parecen obvias como latitud y longitud, pero igual hay alguna otra variable con alta correlación que podemos quitar."
   ]
  },
  {
   "cell_type": "code",
   "execution_count": 71,
   "id": "refined-dating",
   "metadata": {},
   "outputs": [
    {
     "data": {
      "image/png": "[encoded data removed]",
      "text/plain": [
       "<Figure size 864x864 with 2 Axes>"
      ]
     },
     "metadata": {
      "needs_background": "light"
     },
     "output_type": "display_data"
    }
   ],
   "source": [
    "plt.figure(figsize=(12,12))\n",
    "cor = X_all.corr()\n",
    "sns.heatmap(cor, annot=True)\n",
    "plt.show()"
   ]
  },
  {
   "cell_type": "code",
   "execution_count": 72,
   "id": "molecular-rehabilitation",
   "metadata": {},
   "outputs": [],
   "source": [
    "# Efectivamente hay una alta correlación entre district_code y region_code.\n",
    "# Quitamos la que más categorias tiene: \n",
    "X_all.drop('region_code', axis=1, inplace=True)"
   ]
  },
  {
   "cell_type": "markdown",
   "id": "aggressive-saskatchewan",
   "metadata": {},
   "source": [
    "## 3. Preprocesado\n",
    "### 3.1 Valores missing"
   ]
  },
  {
   "cell_type": "code",
   "execution_count": 73,
   "id": "latest-cause",
   "metadata": {},
   "outputs": [
    {
     "data": {
      "text/html": [
       "<div>\n",
       "<style scoped>\n",
       "    .dataframe tbody tr th:only-of-type {\n",
       "        vertical-align: middle;\n",
       "    }\n",
       "\n",
       "    .dataframe tbody tr th {\n",
       "        vertical-align: top;\n",
       "    }\n",
       "\n",
       "    .dataframe thead th {\n",
       "        text-align: right;\n",
       "    }\n",
       "</style>\n",
       "<table border=\"1\" class=\"dataframe\">\n",
       "  <thead>\n",
       "    <tr style=\"text-align: right;\">\n",
       "      <th></th>\n",
       "      <th>variable</th>\n",
       "      <th>Unique values</th>\n",
       "      <th>Nan %</th>\n",
       "      <th>zeros %</th>\n",
       "    </tr>\n",
       "  </thead>\n",
       "  <tbody>\n",
       "    <tr>\n",
       "      <th>13</th>\n",
       "      <td>scheme_name</td>\n",
       "      <td>2869</td>\n",
       "      <td>47.5</td>\n",
       "      <td>0.0</td>\n",
       "    </tr>\n",
       "    <tr>\n",
       "      <th>3</th>\n",
       "      <td>funder</td>\n",
       "      <td>2141</td>\n",
       "      <td>6.1</td>\n",
       "      <td>0.0</td>\n",
       "    </tr>\n",
       "    <tr>\n",
       "      <th>5</th>\n",
       "      <td>installer</td>\n",
       "      <td>2411</td>\n",
       "      <td>6.1</td>\n",
       "      <td>0.0</td>\n",
       "    </tr>\n",
       "    <tr>\n",
       "      <th>12</th>\n",
       "      <td>public_meeting</td>\n",
       "      <td>3</td>\n",
       "      <td>5.6</td>\n",
       "      <td>8.5</td>\n",
       "    </tr>\n",
       "    <tr>\n",
       "      <th>14</th>\n",
       "      <td>permit</td>\n",
       "      <td>3</td>\n",
       "      <td>5.1</td>\n",
       "      <td>29.4</td>\n",
       "    </tr>\n",
       "    <tr>\n",
       "      <th>0</th>\n",
       "      <td>id</td>\n",
       "      <td>74250</td>\n",
       "      <td>0.0</td>\n",
       "      <td>0.0</td>\n",
       "    </tr>\n",
       "    <tr>\n",
       "      <th>21</th>\n",
       "      <td>source</td>\n",
       "      <td>10</td>\n",
       "      <td>0.0</td>\n",
       "      <td>0.0</td>\n",
       "    </tr>\n",
       "    <tr>\n",
       "      <th>20</th>\n",
       "      <td>quantity</td>\n",
       "      <td>5</td>\n",
       "      <td>0.0</td>\n",
       "      <td>0.0</td>\n",
       "    </tr>\n",
       "    <tr>\n",
       "      <th>19</th>\n",
       "      <td>water_quality</td>\n",
       "      <td>8</td>\n",
       "      <td>0.0</td>\n",
       "      <td>0.0</td>\n",
       "    </tr>\n",
       "    <tr>\n",
       "      <th>18</th>\n",
       "      <td>payment_type</td>\n",
       "      <td>7</td>\n",
       "      <td>0.0</td>\n",
       "      <td>0.0</td>\n",
       "    </tr>\n",
       "    <tr>\n",
       "      <th>17</th>\n",
       "      <td>management</td>\n",
       "      <td>12</td>\n",
       "      <td>0.0</td>\n",
       "      <td>0.0</td>\n",
       "    </tr>\n",
       "    <tr>\n",
       "      <th>16</th>\n",
       "      <td>extraction_type_class</td>\n",
       "      <td>7</td>\n",
       "      <td>0.0</td>\n",
       "      <td>0.0</td>\n",
       "    </tr>\n",
       "    <tr>\n",
       "      <th>15</th>\n",
       "      <td>construction_year</td>\n",
       "      <td>55</td>\n",
       "      <td>0.0</td>\n",
       "      <td>35.0</td>\n",
       "    </tr>\n",
       "    <tr>\n",
       "      <th>11</th>\n",
       "      <td>population</td>\n",
       "      <td>1128</td>\n",
       "      <td>0.0</td>\n",
       "      <td>36.1</td>\n",
       "    </tr>\n",
       "    <tr>\n",
       "      <th>1</th>\n",
       "      <td>amount_tsh</td>\n",
       "      <td>102</td>\n",
       "      <td>0.0</td>\n",
       "      <td>70.1</td>\n",
       "    </tr>\n",
       "    <tr>\n",
       "      <th>10</th>\n",
       "      <td>district_code</td>\n",
       "      <td>20</td>\n",
       "      <td>0.0</td>\n",
       "      <td>0.0</td>\n",
       "    </tr>\n",
       "    <tr>\n",
       "      <th>9</th>\n",
       "      <td>basin</td>\n",
       "      <td>9</td>\n",
       "      <td>0.0</td>\n",
       "      <td>0.0</td>\n",
       "    </tr>\n",
       "    <tr>\n",
       "      <th>8</th>\n",
       "      <td>num_private</td>\n",
       "      <td>68</td>\n",
       "      <td>0.0</td>\n",
       "      <td>98.7</td>\n",
       "    </tr>\n",
       "    <tr>\n",
       "      <th>7</th>\n",
       "      <td>latitude</td>\n",
       "      <td>71869</td>\n",
       "      <td>0.0</td>\n",
       "      <td>0.0</td>\n",
       "    </tr>\n",
       "    <tr>\n",
       "      <th>6</th>\n",
       "      <td>longitude</td>\n",
       "      <td>71870</td>\n",
       "      <td>0.0</td>\n",
       "      <td>3.1</td>\n",
       "    </tr>\n",
       "    <tr>\n",
       "      <th>4</th>\n",
       "      <td>gps_height</td>\n",
       "      <td>2456</td>\n",
       "      <td>0.0</td>\n",
       "      <td>34.5</td>\n",
       "    </tr>\n",
       "    <tr>\n",
       "      <th>2</th>\n",
       "      <td>date_recorded</td>\n",
       "      <td>369</td>\n",
       "      <td>0.0</td>\n",
       "      <td>0.0</td>\n",
       "    </tr>\n",
       "    <tr>\n",
       "      <th>22</th>\n",
       "      <td>waterpoint_type</td>\n",
       "      <td>7</td>\n",
       "      <td>0.0</td>\n",
       "      <td>0.0</td>\n",
       "    </tr>\n",
       "  </tbody>\n",
       "</table>\n",
       "</div>"
      ],
      "text/plain": [
       "                 variable Unique values Nan % zeros %\n",
       "13            scheme_name          2869  47.5     0.0\n",
       "3                  funder          2141   6.1     0.0\n",
       "5               installer          2411   6.1     0.0\n",
       "12         public_meeting             3   5.6     8.5\n",
       "14                 permit             3   5.1    29.4\n",
       "0                      id         74250   0.0     0.0\n",
       "21                 source            10   0.0     0.0\n",
       "20               quantity             5   0.0     0.0\n",
       "19          water_quality             8   0.0     0.0\n",
       "18           payment_type             7   0.0     0.0\n",
       "17             management            12   0.0     0.0\n",
       "16  extraction_type_class             7   0.0     0.0\n",
       "15      construction_year            55   0.0    35.0\n",
       "11             population          1128   0.0    36.1\n",
       "1              amount_tsh           102   0.0    70.1\n",
       "10          district_code            20   0.0     0.0\n",
       "9                   basin             9   0.0     0.0\n",
       "8             num_private            68   0.0    98.7\n",
       "7                latitude         71869   0.0     0.0\n",
       "6               longitude         71870   0.0     3.1\n",
       "4              gps_height          2456   0.0    34.5\n",
       "2           date_recorded           369   0.0     0.0\n",
       "22        waterpoint_type             7   0.0     0.0"
      ]
     },
     "execution_count": 73,
     "metadata": {},
     "output_type": "execute_result"
    },
    {
     "data": {
      "image/png": "[encoded data removed]",
      "text/plain": [
       "<Figure size 2160x720 with 2 Axes>"
      ]
     },
     "metadata": {
      "needs_background": "light"
     },
     "output_type": "display_data"
    }
   ],
   "source": [
    "# Plot missing values\n",
    "msno.matrix(X_all, figsize = (30,10))\n",
    "\n",
    "def missing_values(data):\n",
    "    df = pd.DataFrame()\n",
    "    for col in list(data):\n",
    "        unique_values = data[col].unique()\n",
    "        try:\n",
    "            unique_values = np.sort(unique_values)\n",
    "        except:\n",
    "            pass\n",
    "        nans = round(pd.isnull(data[col]).sum()/data.shape[0]*100, 1)\n",
    "        zeros = round((data[col] == 0).sum()/data.shape[0]*100, 1)\n",
    "        #empty = round((data[data[col]] == '').sum()/data.shape[0]*100, 1)\n",
    "        df = df.append(pd.DataFrame([col,\n",
    "                                     len(unique_values),\n",
    "                                     nans,\n",
    "                                     zeros,\n",
    "                                     #empty\n",
    "                                    ]).T, ignore_index = True)\n",
    "\n",
    "    return df.rename(columns = {0: 'variable',\n",
    "                                1: 'Unique values',\n",
    "                                2: 'Nan %',\n",
    "                                3: 'zeros %',\n",
    "                                #4: 'empty'\n",
    "                               }).sort_values('Nan %', ascending=False)\n",
    "\n",
    "missing_values(X_all)"
   ]
  },
  {
   "cell_type": "markdown",
   "id": "mighty-scratch",
   "metadata": {},
   "source": [
    "Vemos que hay muchas variables que tienen valores faltantes codificados como *NaN* y otros que tienen valores codificado con 0, que se pueden considerar valores faltantes también. <br>\n",
    "Iremos viendo por variable detalladamente que podemos hacer para corregir los valores.\n",
    "\n",
    "#### scheme_name\n",
    "El porcentaje de valores faltantes de esta variable es muy superior a lo que sería razonable para imputar valores, sobre todo dado que hay más que 2800 categorias. Por lo tanto quitaremos esa variable."
   ]
  },
  {
   "cell_type": "code",
   "execution_count": 74,
   "id": "continuing-seating",
   "metadata": {},
   "outputs": [],
   "source": [
    "X_all.drop('scheme_name', axis=1, inplace=True)"
   ]
  },
  {
   "cell_type": "markdown",
   "id": "valid-gothic",
   "metadata": {},
   "source": [
    "#### management, funder, installer, public_meeting, permit\n",
    "Estas variables tienen un porcentaje de missings mucho más bajo y por lo cual podemos imputarlos con la moda. "
   ]
  },
  {
   "cell_type": "code",
   "execution_count": 75,
   "id": "proved-cricket",
   "metadata": {},
   "outputs": [],
   "source": [
    "# Impute with mode\n",
    "X_all['management'].fillna(X_all['management'].mode()[0], inplace=True)\n",
    "X_all['funder'].fillna(X_all['funder'].mode()[0], inplace=True)\n",
    "X_all['installer'].fillna(X_all['installer'].mode()[0], inplace=True)\n",
    "X_all['public_meeting'].fillna(X_all['public_meeting'].mode()[0], inplace=True)\n",
    "X_all['permit'].fillna(X_all['permit'].mode()[0], inplace=True)"
   ]
  },
  {
   "cell_type": "markdown",
   "id": "prerequisite-westminster",
   "metadata": {},
   "source": [
    "### 3.2 Ceros \n",
    "#### num_private\n",
    "Vemos que 98,7% de esta variable son 0, por lo cual sabemos que no nos va a ayudar a discriminar contra la variable objetivo y la eliminamos."
   ]
  },
  {
   "cell_type": "code",
   "execution_count": 76,
   "id": "mediterranean-clothing",
   "metadata": {},
   "outputs": [],
   "source": [
    "# drop num_private \n",
    "X_all.drop('num_private', axis=1, inplace=True)"
   ]
  },
  {
   "cell_type": "markdown",
   "id": "infectious-bench",
   "metadata": {},
   "source": [
    "#### construction_year"
   ]
  },
  {
   "cell_type": "code",
   "execution_count": 77,
   "id": "handled-huntington",
   "metadata": {},
   "outputs": [
    {
     "data": {
      "text/html": [
       "<div>\n",
       "<style scoped>\n",
       "    .dataframe tbody tr th:only-of-type {\n",
       "        vertical-align: middle;\n",
       "    }\n",
       "\n",
       "    .dataframe tbody tr th {\n",
       "        vertical-align: top;\n",
       "    }\n",
       "\n",
       "    .dataframe thead th {\n",
       "        text-align: right;\n",
       "    }\n",
       "</style>\n",
       "<table border=\"1\" class=\"dataframe\">\n",
       "  <thead>\n",
       "    <tr style=\"text-align: right;\">\n",
       "      <th></th>\n",
       "      <th>id</th>\n",
       "      <th>amount_tsh</th>\n",
       "      <th>gps_height</th>\n",
       "      <th>longitude</th>\n",
       "      <th>latitude</th>\n",
       "      <th>district_code</th>\n",
       "      <th>population</th>\n",
       "      <th>construction_year</th>\n",
       "    </tr>\n",
       "  </thead>\n",
       "  <tbody>\n",
       "    <tr>\n",
       "      <th>count</th>\n",
       "      <td>48281.000000</td>\n",
       "      <td>48281.000000</td>\n",
       "      <td>48281.000000</td>\n",
       "      <td>48281.000000</td>\n",
       "      <td>48281.000000</td>\n",
       "      <td>48281.000000</td>\n",
       "      <td>48281.000000</td>\n",
       "      <td>48281.000000</td>\n",
       "    </tr>\n",
       "    <tr>\n",
       "      <th>mean</th>\n",
       "      <td>37084.269609</td>\n",
       "      <td>469.739275</td>\n",
       "      <td>1000.202709</td>\n",
       "      <td>35.986840</td>\n",
       "      <td>-6.237147</td>\n",
       "      <td>5.967006</td>\n",
       "      <td>271.572233</td>\n",
       "      <td>1996.870943</td>\n",
       "    </tr>\n",
       "    <tr>\n",
       "      <th>std</th>\n",
       "      <td>21411.638110</td>\n",
       "      <td>3456.533934</td>\n",
       "      <td>618.538809</td>\n",
       "      <td>2.559941</td>\n",
       "      <td>2.760997</td>\n",
       "      <td>10.709279</td>\n",
       "      <td>552.329367</td>\n",
       "      <td>12.440524</td>\n",
       "    </tr>\n",
       "    <tr>\n",
       "      <th>min</th>\n",
       "      <td>1.000000</td>\n",
       "      <td>0.000000</td>\n",
       "      <td>-63.000000</td>\n",
       "      <td>29.607122</td>\n",
       "      <td>-11.649440</td>\n",
       "      <td>1.000000</td>\n",
       "      <td>0.000000</td>\n",
       "      <td>1960.000000</td>\n",
       "    </tr>\n",
       "    <tr>\n",
       "      <th>25%</th>\n",
       "      <td>18512.000000</td>\n",
       "      <td>0.000000</td>\n",
       "      <td>369.000000</td>\n",
       "      <td>34.676387</td>\n",
       "      <td>-8.744394</td>\n",
       "      <td>2.000000</td>\n",
       "      <td>30.000000</td>\n",
       "      <td>1988.000000</td>\n",
       "    </tr>\n",
       "    <tr>\n",
       "      <th>50%</th>\n",
       "      <td>37097.000000</td>\n",
       "      <td>0.000000</td>\n",
       "      <td>1153.000000</td>\n",
       "      <td>36.653857</td>\n",
       "      <td>-6.078797</td>\n",
       "      <td>3.000000</td>\n",
       "      <td>150.000000</td>\n",
       "      <td>2000.000000</td>\n",
       "    </tr>\n",
       "    <tr>\n",
       "      <th>75%</th>\n",
       "      <td>55548.000000</td>\n",
       "      <td>200.000000</td>\n",
       "      <td>1486.000000</td>\n",
       "      <td>37.814225</td>\n",
       "      <td>-3.654467</td>\n",
       "      <td>5.000000</td>\n",
       "      <td>312.000000</td>\n",
       "      <td>2008.000000</td>\n",
       "    </tr>\n",
       "    <tr>\n",
       "      <th>max</th>\n",
       "      <td>74249.000000</td>\n",
       "      <td>350000.000000</td>\n",
       "      <td>2777.000000</td>\n",
       "      <td>40.345193</td>\n",
       "      <td>-1.042375</td>\n",
       "      <td>63.000000</td>\n",
       "      <td>30500.000000</td>\n",
       "      <td>2013.000000</td>\n",
       "    </tr>\n",
       "  </tbody>\n",
       "</table>\n",
       "</div>"
      ],
      "text/plain": [
       "                 id     amount_tsh    gps_height     longitude      latitude  \\\n",
       "count  48281.000000   48281.000000  48281.000000  48281.000000  48281.000000   \n",
       "mean   37084.269609     469.739275   1000.202709     35.986840     -6.237147   \n",
       "std    21411.638110    3456.533934    618.538809      2.559941      2.760997   \n",
       "min        1.000000       0.000000    -63.000000     29.607122    -11.649440   \n",
       "25%    18512.000000       0.000000    369.000000     34.676387     -8.744394   \n",
       "50%    37097.000000       0.000000   1153.000000     36.653857     -6.078797   \n",
       "75%    55548.000000     200.000000   1486.000000     37.814225     -3.654467   \n",
       "max    74249.000000  350000.000000   2777.000000     40.345193     -1.042375   \n",
       "\n",
       "       district_code    population  construction_year  \n",
       "count   48281.000000  48281.000000       48281.000000  \n",
       "mean        5.967006    271.572233        1996.870943  \n",
       "std        10.709279    552.329367          12.440524  \n",
       "min         1.000000      0.000000        1960.000000  \n",
       "25%         2.000000     30.000000        1988.000000  \n",
       "50%         3.000000    150.000000        2000.000000  \n",
       "75%         5.000000    312.000000        2008.000000  \n",
       "max        63.000000  30500.000000        2013.000000  "
      ]
     },
     "execution_count": 77,
     "metadata": {},
     "output_type": "execute_result"
    }
   ],
   "source": [
    "# Distribution without 0 for construction_year\n",
    "X_all.loc[X_all['construction_year']!=0].describe()"
   ]
  },
  {
   "cell_type": "code",
   "execution_count": 78,
   "id": "accompanied-spirituality",
   "metadata": {},
   "outputs": [],
   "source": [
    "# replace with median\n",
    "median_yr = X_all['construction_year'].median()\n",
    "X_all['construction_year'] = X_all['construction_year'].replace(0, median_yr)\n",
    "X_all['construction_year'] = X_all['construction_year'].astype(int)"
   ]
  },
  {
   "cell_type": "markdown",
   "id": "dominant-floor",
   "metadata": {},
   "source": [
    "#### population"
   ]
  },
  {
   "cell_type": "code",
   "execution_count": 79,
   "id": "smoking-opposition",
   "metadata": {},
   "outputs": [],
   "source": [
    "# replace with median\n",
    "median_pop = X_all['population'].median()\n",
    "X_all['population'] = X_all['population'].replace(0, median_pop)"
   ]
  },
  {
   "cell_type": "markdown",
   "id": "dense-italian",
   "metadata": {},
   "source": [
    "#### longitud"
   ]
  },
  {
   "cell_type": "code",
   "execution_count": 80,
   "id": "pressing-decline",
   "metadata": {},
   "outputs": [],
   "source": [
    "# replace with median\n",
    "median_lon = X_all['longitude'].median()\n",
    "X_all['longitude'] = X_all['longitude'].replace(0, median_lon)"
   ]
  },
  {
   "cell_type": "markdown",
   "id": "literary-portable",
   "metadata": {},
   "source": [
    "#### amount_tsh"
   ]
  },
  {
   "cell_type": "code",
   "execution_count": 81,
   "id": "elementary-divide",
   "metadata": {},
   "outputs": [],
   "source": [
    "# eliminate due to high % of zeros\n",
    "X_all.drop('amount_tsh', axis=1, inplace=True)"
   ]
  },
  {
   "cell_type": "markdown",
   "id": "current-backing",
   "metadata": {},
   "source": [
    "## 4. Feature Engineering\n",
    "\n",
    "### 4.1 Encoding variables categóricas\n",
    "El problema que enfrentamos con algunas de las variables categóricas es la alta cardinalidad, es decir el alto número de valores únicos (o categorias).<br> A parte de esto nos suponen problemas cada manera de codificar las variables: \n",
    "- si usamos *mapping*, es decir asignar un valor numérico a cada variable, inferimos un orden a las categorias (por ejemplo 4 > 1 o 2x2 = 4), cuando no necesariamente existe un orden en las categorias\n",
    "- si usamos *dummy variables* o *one hot encoding*, aumentamos la dimensionalidad por n-1, con n siendo las categorias. Por lo cual no podemos usar este método con variables de alta cardinalidad <br>\n",
    "\n",
    "Aplicaremos un modo adecuado para cada variable: \n",
    "- Para las variables booleanas usaremos el mapping para asignarle 0 o 1. \n",
    "- Para las variables con hasta 12 categorias usaremos label encoding\n",
    "- La variable date_recorded la podemos dividir facilmente en año, mes y día\n",
    "- Para las variables *funder* e *installer* agruparemos las categorias con más datos y usaremos label encoding"
   ]
  },
  {
   "cell_type": "code",
   "execution_count": 82,
   "id": "earlier-excess",
   "metadata": {
    "scrolled": true
   },
   "outputs": [
    {
     "name": "stdout",
     "output_type": "stream",
     "text": [
      "Unique values per category:\n",
      "===========================\n",
      "date_recorded 369\n",
      "funder 2140\n",
      "installer 2410\n",
      "basin 9\n",
      "public_meeting 2\n",
      "permit 2\n",
      "extraction_type_class 7\n",
      "management 12\n",
      "payment_type 7\n",
      "water_quality 8\n",
      "quantity 5\n",
      "source 10\n",
      "waterpoint_type 7\n"
     ]
    }
   ],
   "source": [
    "X_all_cat = X_all[['date_recorded', 'funder', 'installer', 'basin', 'public_meeting',\n",
    "                   'permit', 'extraction_type_class', 'management', 'payment_type', 'water_quality', 'quantity',\n",
    "                   'source', 'waterpoint_type']]\n",
    "\n",
    "print('Unique values per category:'); print('='*len('Unique values per category:'))\n",
    "for var in X_all_cat.columns: \n",
    "    print(var, len(X_all_cat[var].value_counts()))"
   ]
  },
  {
   "cell_type": "markdown",
   "id": "brazilian-driver",
   "metadata": {},
   "source": [
    "#### 4.1.1. Encoding variables booleanas usando mapping:"
   ]
  },
  {
   "cell_type": "code",
   "execution_count": 83,
   "id": "domestic-fossil",
   "metadata": {},
   "outputs": [],
   "source": [
    "# permit\n",
    "X_all['permit'].unique()\n",
    "X_all['permit'] = X_all['permit'].map( {False: 0, True: 1} ).astype(int)\n",
    "\n",
    "# public meeting\n",
    "X_all['public_meeting'].unique()\n",
    "X_all['public_meeting'] = X_all['public_meeting'].map( {False: 0, True: 1} ).astype(int)"
   ]
  },
  {
   "cell_type": "code",
   "execution_count": 88,
   "id": "phantom-arctic",
   "metadata": {},
   "outputs": [
    {
     "data": {
      "text/plain": [
       "1    42.709764\n",
       "2    15.173064\n",
       "6    14.002694\n",
       "3    13.668687\n",
       "4     6.521212\n",
       "0     6.154882\n",
       "5     1.769697\n",
       "Name: payment_type, dtype: float64"
      ]
     },
     "execution_count": 88,
     "metadata": {},
     "output_type": "execute_result"
    }
   ],
   "source": [
    "X_all['payment_type'].value_counts()/len(X_all['payment_type'])*100"
   ]
  },
  {
   "cell_type": "markdown",
   "id": "loving-monte",
   "metadata": {},
   "source": [
    "#### 4.1.2. Encoding variables con hasta 12 categorias usando label encoding: "
   ]
  },
  {
   "cell_type": "code",
   "execution_count": 87,
   "id": "prepared-optics",
   "metadata": {},
   "outputs": [],
   "source": [
    "char_cols = X_all.dtypes.pipe(lambda x: x[x == 'object']).index\n",
    "char_cols = char_cols.drop(['funder', 'installer'])\n",
    "label_mapping = {}\n",
    "\n",
    "for col in char_cols:\n",
    "    X_all[col], label_mapping[col] = pd.factorize(X_all[col])"
   ]
  },
  {
   "cell_type": "markdown",
   "id": "injured-houston",
   "metadata": {},
   "source": [
    "#### 4.1.3. Encoding variables con alta cardinalidad (más de 12 categorias)\n",
    "##### 'installer'"
   ]
  },
  {
   "cell_type": "code",
   "execution_count": 48,
   "id": "directed-diagnosis",
   "metadata": {},
   "outputs": [
    {
     "name": "stdout",
     "output_type": "stream",
     "text": [
      "59.51111111111111\n",
      "35.3979797979798\n",
      "3.0734006734006734\n",
      "2.0175084175084175\n"
     ]
    }
   ],
   "source": [
    "# unique values \n",
    "X_all['installer'].value_counts()/len(X_all['installer'])*100"
   ]
  },
  {
   "cell_type": "code",
   "execution_count": 41,
   "id": "quiet-radio",
   "metadata": {},
   "outputs": [],
   "source": [
    "# Keep first three labels and collapse the rest\n",
    "categories_to_keep = X_all['installer'].value_counts().index[:3] \n",
    "\n",
    "X_all.loc[\n",
    "    (~X_all.installer.isin(categories_to_keep)), 'installer'\n",
    "] = 'Other'\n",
    "\n",
    "# Label Encoding\n",
    "label_mapping = {}\n",
    "X_all['installer'], label_mapping['installer'] = pd.factorize(X_all['installer'])"
   ]
  },
  {
   "cell_type": "markdown",
   "id": "caring-margin",
   "metadata": {},
   "source": [
    "##### 'funder'"
   ]
  },
  {
   "cell_type": "code",
   "execution_count": 42,
   "id": "living-occasion",
   "metadata": {},
   "outputs": [
    {
     "data": {
      "text/plain": [
       "Government Of Tanzania    21.283502\n",
       "Danida                     5.261953\n",
       "Hesawa                     3.746801\n",
       "Rwssp                      2.293603\n",
       "World Bank                 2.290909\n",
       "                            ...    \n",
       "Tanzania Compasion         0.001347\n",
       "Tgz                        0.001347\n",
       "Upper Ruvu                 0.001347\n",
       "Kikundi Cha Akina Mama     0.001347\n",
       "Mp Mloka                   0.001347\n",
       "Name: funder, Length: 2140, dtype: float64"
      ]
     },
     "execution_count": 42,
     "metadata": {},
     "output_type": "execute_result"
    }
   ],
   "source": [
    "# unique values\n",
    "X_all['funder'].value_counts()/len(X_all['funder'])*100"
   ]
  },
  {
   "cell_type": "code",
   "execution_count": 43,
   "id": "sustained-haiti",
   "metadata": {},
   "outputs": [],
   "source": [
    "# Keep first seven labels and collapse the rest\n",
    "categories_to_keep = X_all['funder'].value_counts().index[:7]\n",
    "\n",
    "X_all.loc[\n",
    "    (~X_all.funder.isin(categories_to_keep)), 'funder'\n",
    "] = 'Other'\n",
    "\n",
    "# Label Encoding\n",
    "label_mapping = {}\n",
    "X_all['funder'], label_mapping['funder'] = pd.factorize(X_all['funder'])"
   ]
  },
  {
   "cell_type": "markdown",
   "id": "crude-disclosure",
   "metadata": {},
   "source": [
    "### 4.2 Encoding variable target"
   ]
  },
  {
   "cell_type": "code",
   "execution_count": 44,
   "id": "connected-execution",
   "metadata": {},
   "outputs": [
    {
     "name": "stdout",
     "output_type": "stream",
     "text": [
      "Unique values in status_group:  ['functional' 'non functional' 'functional needs repair']\n"
     ]
    },
    {
     "data": {
      "text/html": [
       "<div>\n",
       "<style scoped>\n",
       "    .dataframe tbody tr th:only-of-type {\n",
       "        vertical-align: middle;\n",
       "    }\n",
       "\n",
       "    .dataframe tbody tr th {\n",
       "        vertical-align: top;\n",
       "    }\n",
       "\n",
       "    .dataframe thead th {\n",
       "        text-align: right;\n",
       "    }\n",
       "</style>\n",
       "<table border=\"1\" class=\"dataframe\">\n",
       "  <thead>\n",
       "    <tr style=\"text-align: right;\">\n",
       "      <th></th>\n",
       "      <th>id</th>\n",
       "      <th>status_group</th>\n",
       "    </tr>\n",
       "  </thead>\n",
       "  <tbody>\n",
       "    <tr>\n",
       "      <th>0</th>\n",
       "      <td>69572</td>\n",
       "      <td>functional</td>\n",
       "    </tr>\n",
       "    <tr>\n",
       "      <th>1</th>\n",
       "      <td>8776</td>\n",
       "      <td>functional</td>\n",
       "    </tr>\n",
       "    <tr>\n",
       "      <th>2</th>\n",
       "      <td>34310</td>\n",
       "      <td>functional</td>\n",
       "    </tr>\n",
       "    <tr>\n",
       "      <th>3</th>\n",
       "      <td>67743</td>\n",
       "      <td>non functional</td>\n",
       "    </tr>\n",
       "    <tr>\n",
       "      <th>4</th>\n",
       "      <td>19728</td>\n",
       "      <td>functional</td>\n",
       "    </tr>\n",
       "  </tbody>\n",
       "</table>\n",
       "</div>"
      ],
      "text/plain": [
       "      id    status_group\n",
       "0  69572      functional\n",
       "1   8776      functional\n",
       "2  34310      functional\n",
       "3  67743  non functional\n",
       "4  19728      functional"
      ]
     },
     "execution_count": 44,
     "metadata": {},
     "output_type": "execute_result"
    }
   ],
   "source": [
    "# Create copy of train_labels\n",
    "y = train_labels.copy()\n",
    "\n",
    "print('Unique values in status_group: ', y['status_group'].unique())\n",
    "y.head()"
   ]
  },
  {
   "cell_type": "code",
   "execution_count": 45,
   "id": "cleared-watts",
   "metadata": {},
   "outputs": [],
   "source": [
    "# Encoding status_group\n",
    "y['status_group'] = y['status_group'].map( {'non functional': 0,\n",
    "                                            'functional needs repair': 1,\n",
    "                                            'functional': 2} ).astype(int)"
   ]
  },
  {
   "cell_type": "code",
   "execution_count": 46,
   "id": "sexual-juvenile",
   "metadata": {},
   "outputs": [
    {
     "data": {
      "text/html": [
       "<div>\n",
       "<style scoped>\n",
       "    .dataframe tbody tr th:only-of-type {\n",
       "        vertical-align: middle;\n",
       "    }\n",
       "\n",
       "    .dataframe tbody tr th {\n",
       "        vertical-align: top;\n",
       "    }\n",
       "\n",
       "    .dataframe thead th {\n",
       "        text-align: right;\n",
       "    }\n",
       "</style>\n",
       "<table border=\"1\" class=\"dataframe\">\n",
       "  <thead>\n",
       "    <tr style=\"text-align: right;\">\n",
       "      <th></th>\n",
       "      <th>id</th>\n",
       "      <th>date_recorded</th>\n",
       "      <th>funder</th>\n",
       "      <th>gps_height</th>\n",
       "      <th>installer</th>\n",
       "      <th>longitude</th>\n",
       "      <th>latitude</th>\n",
       "      <th>basin</th>\n",
       "      <th>district_code</th>\n",
       "      <th>population</th>\n",
       "      <th>public_meeting</th>\n",
       "      <th>permit</th>\n",
       "      <th>construction_year</th>\n",
       "      <th>extraction_type_class</th>\n",
       "      <th>management</th>\n",
       "      <th>payment_type</th>\n",
       "      <th>water_quality</th>\n",
       "      <th>quantity</th>\n",
       "      <th>source</th>\n",
       "      <th>waterpoint_type</th>\n",
       "    </tr>\n",
       "  </thead>\n",
       "  <tbody>\n",
       "    <tr>\n",
       "      <th>0</th>\n",
       "      <td>69572</td>\n",
       "      <td>0</td>\n",
       "      <td>0</td>\n",
       "      <td>1390</td>\n",
       "      <td>0</td>\n",
       "      <td>34.938093</td>\n",
       "      <td>-9.856322</td>\n",
       "      <td>0</td>\n",
       "      <td>5</td>\n",
       "      <td>109.0</td>\n",
       "      <td>1</td>\n",
       "      <td>0</td>\n",
       "      <td>1999</td>\n",
       "      <td>0</td>\n",
       "      <td>0</td>\n",
       "      <td>0</td>\n",
       "      <td>0</td>\n",
       "      <td>0</td>\n",
       "      <td>0</td>\n",
       "      <td>0</td>\n",
       "    </tr>\n",
       "    <tr>\n",
       "      <th>1</th>\n",
       "      <td>8776</td>\n",
       "      <td>1</td>\n",
       "      <td>0</td>\n",
       "      <td>1399</td>\n",
       "      <td>0</td>\n",
       "      <td>34.698766</td>\n",
       "      <td>-2.147466</td>\n",
       "      <td>1</td>\n",
       "      <td>2</td>\n",
       "      <td>280.0</td>\n",
       "      <td>1</td>\n",
       "      <td>1</td>\n",
       "      <td>2010</td>\n",
       "      <td>0</td>\n",
       "      <td>1</td>\n",
       "      <td>1</td>\n",
       "      <td>0</td>\n",
       "      <td>1</td>\n",
       "      <td>1</td>\n",
       "      <td>0</td>\n",
       "    </tr>\n",
       "    <tr>\n",
       "      <th>2</th>\n",
       "      <td>34310</td>\n",
       "      <td>2</td>\n",
       "      <td>0</td>\n",
       "      <td>686</td>\n",
       "      <td>0</td>\n",
       "      <td>37.460664</td>\n",
       "      <td>-3.821329</td>\n",
       "      <td>2</td>\n",
       "      <td>4</td>\n",
       "      <td>250.0</td>\n",
       "      <td>1</td>\n",
       "      <td>1</td>\n",
       "      <td>2009</td>\n",
       "      <td>0</td>\n",
       "      <td>0</td>\n",
       "      <td>2</td>\n",
       "      <td>0</td>\n",
       "      <td>0</td>\n",
       "      <td>2</td>\n",
       "      <td>1</td>\n",
       "    </tr>\n",
       "    <tr>\n",
       "      <th>3</th>\n",
       "      <td>67743</td>\n",
       "      <td>3</td>\n",
       "      <td>0</td>\n",
       "      <td>263</td>\n",
       "      <td>0</td>\n",
       "      <td>38.486161</td>\n",
       "      <td>-11.155298</td>\n",
       "      <td>3</td>\n",
       "      <td>63</td>\n",
       "      <td>58.0</td>\n",
       "      <td>1</td>\n",
       "      <td>1</td>\n",
       "      <td>1986</td>\n",
       "      <td>1</td>\n",
       "      <td>0</td>\n",
       "      <td>1</td>\n",
       "      <td>0</td>\n",
       "      <td>2</td>\n",
       "      <td>3</td>\n",
       "      <td>1</td>\n",
       "    </tr>\n",
       "    <tr>\n",
       "      <th>4</th>\n",
       "      <td>19728</td>\n",
       "      <td>4</td>\n",
       "      <td>0</td>\n",
       "      <td>0</td>\n",
       "      <td>0</td>\n",
       "      <td>31.130847</td>\n",
       "      <td>-1.825359</td>\n",
       "      <td>1</td>\n",
       "      <td>1</td>\n",
       "      <td>25.0</td>\n",
       "      <td>1</td>\n",
       "      <td>1</td>\n",
       "      <td>1986</td>\n",
       "      <td>0</td>\n",
       "      <td>2</td>\n",
       "      <td>1</td>\n",
       "      <td>0</td>\n",
       "      <td>3</td>\n",
       "      <td>1</td>\n",
       "      <td>0</td>\n",
       "    </tr>\n",
       "  </tbody>\n",
       "</table>\n",
       "</div>"
      ],
      "text/plain": [
       "      id  date_recorded  funder  gps_height  installer  longitude   latitude  \\\n",
       "0  69572              0       0        1390          0  34.938093  -9.856322   \n",
       "1   8776              1       0        1399          0  34.698766  -2.147466   \n",
       "2  34310              2       0         686          0  37.460664  -3.821329   \n",
       "3  67743              3       0         263          0  38.486161 -11.155298   \n",
       "4  19728              4       0           0          0  31.130847  -1.825359   \n",
       "\n",
       "   basin  district_code  population  public_meeting  permit  \\\n",
       "0      0              5       109.0               1       0   \n",
       "1      1              2       280.0               1       1   \n",
       "2      2              4       250.0               1       1   \n",
       "3      3             63        58.0               1       1   \n",
       "4      1              1        25.0               1       1   \n",
       "\n",
       "   construction_year  extraction_type_class  management  payment_type  \\\n",
       "0               1999                      0           0             0   \n",
       "1               2010                      0           1             1   \n",
       "2               2009                      0           0             2   \n",
       "3               1986                      1           0             1   \n",
       "4               1986                      0           2             1   \n",
       "\n",
       "   water_quality  quantity  source  waterpoint_type  \n",
       "0              0         0       0                0  \n",
       "1              0         1       1                0  \n",
       "2              0         0       2                1  \n",
       "3              0         2       3                1  \n",
       "4              0         3       1                0  "
      ]
     },
     "execution_count": 46,
     "metadata": {},
     "output_type": "execute_result"
    }
   ],
   "source": [
    "X_all.head()"
   ]
  },
  {
   "cell_type": "markdown",
   "id": "organizational-hamburg",
   "metadata": {},
   "source": [
    "### 4.3 New Variables\n",
    "#### 4.3.1 Payment as binary \n",
    "We'll create a new variable for payment, as binary, i.e. if there *is* a payment or if there *is not* a payment. "
   ]
  },
  {
   "cell_type": "code",
   "execution_count": 92,
   "id": "democratic-theory",
   "metadata": {
    "tags": []
   },
   "outputs": [
    {
     "data": {
      "text/html": [
       "<div>\n",
       "<style scoped>\n",
       "    .dataframe tbody tr th:only-of-type {\n",
       "        vertical-align: middle;\n",
       "    }\n",
       "\n",
       "    .dataframe tbody tr th {\n",
       "        vertical-align: top;\n",
       "    }\n",
       "\n",
       "    .dataframe thead th {\n",
       "        text-align: right;\n",
       "    }\n",
       "</style>\n",
       "<table border=\"1\" class=\"dataframe\">\n",
       "  <thead>\n",
       "    <tr style=\"text-align: right;\">\n",
       "      <th></th>\n",
       "      <th>id</th>\n",
       "      <th>date_recorded</th>\n",
       "      <th>funder</th>\n",
       "      <th>gps_height</th>\n",
       "      <th>installer</th>\n",
       "      <th>longitude</th>\n",
       "      <th>latitude</th>\n",
       "      <th>basin</th>\n",
       "      <th>district_code</th>\n",
       "      <th>population</th>\n",
       "      <th>public_meeting</th>\n",
       "      <th>permit</th>\n",
       "      <th>construction_year</th>\n",
       "      <th>extraction_type_class</th>\n",
       "      <th>management</th>\n",
       "      <th>payment_type</th>\n",
       "      <th>water_quality</th>\n",
       "      <th>quantity</th>\n",
       "      <th>source</th>\n",
       "      <th>waterpoint_type</th>\n",
       "      <th>is paid</th>\n",
       "    </tr>\n",
       "  </thead>\n",
       "  <tbody>\n",
       "    <tr>\n",
       "      <th>0</th>\n",
       "      <td>69572</td>\n",
       "      <td>0</td>\n",
       "      <td>Roman</td>\n",
       "      <td>1390</td>\n",
       "      <td>Roman</td>\n",
       "      <td>34.938093</td>\n",
       "      <td>-9.856322</td>\n",
       "      <td>0</td>\n",
       "      <td>5</td>\n",
       "      <td>109.0</td>\n",
       "      <td>1</td>\n",
       "      <td>0</td>\n",
       "      <td>1999</td>\n",
       "      <td>0</td>\n",
       "      <td>0</td>\n",
       "      <td>0</td>\n",
       "      <td>0</td>\n",
       "      <td>0</td>\n",
       "      <td>0</td>\n",
       "      <td>0</td>\n",
       "      <td>1</td>\n",
       "    </tr>\n",
       "    <tr>\n",
       "      <th>1</th>\n",
       "      <td>8776</td>\n",
       "      <td>1</td>\n",
       "      <td>Grumeti</td>\n",
       "      <td>1399</td>\n",
       "      <td>GRUMETI</td>\n",
       "      <td>34.698766</td>\n",
       "      <td>-2.147466</td>\n",
       "      <td>1</td>\n",
       "      <td>2</td>\n",
       "      <td>280.0</td>\n",
       "      <td>1</td>\n",
       "      <td>1</td>\n",
       "      <td>2010</td>\n",
       "      <td>0</td>\n",
       "      <td>1</td>\n",
       "      <td>1</td>\n",
       "      <td>0</td>\n",
       "      <td>1</td>\n",
       "      <td>1</td>\n",
       "      <td>0</td>\n",
       "      <td>0</td>\n",
       "    </tr>\n",
       "    <tr>\n",
       "      <th>2</th>\n",
       "      <td>34310</td>\n",
       "      <td>2</td>\n",
       "      <td>Lottery Club</td>\n",
       "      <td>686</td>\n",
       "      <td>World vision</td>\n",
       "      <td>37.460664</td>\n",
       "      <td>-3.821329</td>\n",
       "      <td>2</td>\n",
       "      <td>4</td>\n",
       "      <td>250.0</td>\n",
       "      <td>1</td>\n",
       "      <td>1</td>\n",
       "      <td>2009</td>\n",
       "      <td>0</td>\n",
       "      <td>0</td>\n",
       "      <td>2</td>\n",
       "      <td>0</td>\n",
       "      <td>0</td>\n",
       "      <td>2</td>\n",
       "      <td>1</td>\n",
       "      <td>1</td>\n",
       "    </tr>\n",
       "    <tr>\n",
       "      <th>3</th>\n",
       "      <td>67743</td>\n",
       "      <td>3</td>\n",
       "      <td>Unicef</td>\n",
       "      <td>263</td>\n",
       "      <td>UNICEF</td>\n",
       "      <td>38.486161</td>\n",
       "      <td>-11.155298</td>\n",
       "      <td>3</td>\n",
       "      <td>63</td>\n",
       "      <td>58.0</td>\n",
       "      <td>1</td>\n",
       "      <td>1</td>\n",
       "      <td>1986</td>\n",
       "      <td>1</td>\n",
       "      <td>0</td>\n",
       "      <td>1</td>\n",
       "      <td>0</td>\n",
       "      <td>2</td>\n",
       "      <td>3</td>\n",
       "      <td>1</td>\n",
       "      <td>0</td>\n",
       "    </tr>\n",
       "    <tr>\n",
       "      <th>4</th>\n",
       "      <td>19728</td>\n",
       "      <td>4</td>\n",
       "      <td>Action In A</td>\n",
       "      <td>0</td>\n",
       "      <td>Artisan</td>\n",
       "      <td>31.130847</td>\n",
       "      <td>-1.825359</td>\n",
       "      <td>1</td>\n",
       "      <td>1</td>\n",
       "      <td>25.0</td>\n",
       "      <td>1</td>\n",
       "      <td>1</td>\n",
       "      <td>1986</td>\n",
       "      <td>0</td>\n",
       "      <td>2</td>\n",
       "      <td>1</td>\n",
       "      <td>0</td>\n",
       "      <td>3</td>\n",
       "      <td>1</td>\n",
       "      <td>0</td>\n",
       "      <td>0</td>\n",
       "    </tr>\n",
       "  </tbody>\n",
       "</table>\n",
       "</div>"
      ],
      "text/plain": [
       "      id  date_recorded        funder  gps_height     installer  longitude  \\\n",
       "0  69572              0         Roman        1390         Roman  34.938093   \n",
       "1   8776              1       Grumeti        1399       GRUMETI  34.698766   \n",
       "2  34310              2  Lottery Club         686  World vision  37.460664   \n",
       "3  67743              3        Unicef         263        UNICEF  38.486161   \n",
       "4  19728              4   Action In A           0       Artisan  31.130847   \n",
       "\n",
       "    latitude  basin  district_code  population  public_meeting  permit  \\\n",
       "0  -9.856322      0              5       109.0               1       0   \n",
       "1  -2.147466      1              2       280.0               1       1   \n",
       "2  -3.821329      2              4       250.0               1       1   \n",
       "3 -11.155298      3             63        58.0               1       1   \n",
       "4  -1.825359      1              1        25.0               1       1   \n",
       "\n",
       "   construction_year  extraction_type_class  management  payment_type  \\\n",
       "0               1999                      0           0             0   \n",
       "1               2010                      0           1             1   \n",
       "2               2009                      0           0             2   \n",
       "3               1986                      1           0             1   \n",
       "4               1986                      0           2             1   \n",
       "\n",
       "   water_quality  quantity  source  waterpoint_type  is paid  \n",
       "0              0         0       0                0        1  \n",
       "1              0         1       1                0        0  \n",
       "2              0         0       2                1        1  \n",
       "3              0         2       3                1        0  \n",
       "4              0         3       1                0        0  "
      ]
     },
     "execution_count": 92,
     "metadata": {},
     "output_type": "execute_result"
    }
   ],
   "source": [
    "X_all['is paid'] = X_all['payment_type'].replace({1: 0,\n",
    "                                                  0: 1,\n",
    "                                                  2: 1,\n",
    "                                                  3: 1,\n",
    "                                                  4: 1, \n",
    "                                                  5: 1,\n",
    "                                                  6: 1})"
   ]
  },
  {
   "cell_type": "markdown",
   "id": "proprietary-explanation",
   "metadata": {
    "tags": []
   },
   "source": [
    "#### 4.3.2 Decomposition *date_recorded*\n",
    "La variable date_recorded no nos ayuda mucho en su forma actual, por lo cual la vamos a decomponer en sus elementos, es decir en año, mes y día."
   ]
  },
  {
   "cell_type": "code",
   "execution_count": 321,
   "id": "exact-background",
   "metadata": {},
   "outputs": [],
   "source": [
    "from datetime import date\n",
    "# Transform string to date\n",
    "X_all['date_recorded'] = pd.to_datetime(X_all['date_recorded'], format=\"%Y-%m-%d\")\n",
    "# Extracting year\n",
    "X_all['year_recorded'] = X_all['date_recorded'].dt.year\n",
    "# Extracting month\n",
    "X_all['month_recorded'] = X_all['date_recorded'].dt.month\n",
    "# Extracting tday\n",
    "X_all['day_recorded'] = X_all['date_recorded'].dt.day\n",
    "# Drop date_recorded\n",
    "X_all.drop('date_recorded', axis=1, inplace=True)"
   ]
  },
  {
   "cell_type": "markdown",
   "id": "encouraging-sitting",
   "metadata": {},
   "source": [
    "#### Create *decade* from construction year"
   ]
  },
  {
   "cell_type": "code",
   "execution_count": null,
   "id": "covered-boxing",
   "metadata": {},
   "outputs": [],
   "source": [
    "X_all['decade'] = []\n",
    "\n",
    "for observation in X_all['construction_year']:\n",
    "    if observation "
   ]
  },
  {
   "cell_type": "markdown",
   "id": "consecutive-musical",
   "metadata": {},
   "source": [
    "## 5. Modelización\n",
    "Intentaremos la modelización con diferentes algoritmos y computaremos la capacidad prectiva con validación cruzada. "
   ]
  },
  {
   "cell_type": "code",
   "execution_count": 322,
   "id": "removable-rover",
   "metadata": {},
   "outputs": [
    {
     "name": "stdout",
     "output_type": "stream",
     "text": [
      "Length X:  59400\n",
      "Length test_values_clean: 14850\n",
      "Length y: 59400\n"
     ]
    }
   ],
   "source": [
    "# Seperate train from test data\n",
    "X = X_all[:59400]\n",
    "print('Length X: ', len(X))\n",
    "X.set_index('id', inplace=True)\n",
    "\n",
    "test_values_clean = X_all[59400:]\n",
    "print('Length test_values_clean:', len(test_values_clean))\n",
    "test_values_clean.set_index('id', inplace=True)\n",
    "\n",
    "print('Length y:', len(y))\n",
    "y.set_index('id', inplace=True)"
   ]
  },
  {
   "cell_type": "code",
   "execution_count": 323,
   "id": "satisfied-reaction",
   "metadata": {},
   "outputs": [],
   "source": [
    "# Create train_data \n",
    "train_data = pd.concat([X, y], axis=1)"
   ]
  },
  {
   "cell_type": "markdown",
   "id": "respective-development",
   "metadata": {},
   "source": [
    "### Eliminar Outliers en train_data\n",
    "#### population"
   ]
  },
  {
   "cell_type": "code",
   "execution_count": 324,
   "id": "executive-pierre",
   "metadata": {
    "scrolled": true
   },
   "outputs": [
    {
     "data": {
      "text/plain": [
       "<AxesSubplot:xlabel='population'>"
      ]
     },
     "execution_count": 324,
     "metadata": {},
     "output_type": "execute_result"
    },
    {
     "data": {
      "image/png": "[encoded data removed]",
      "text/plain": [
       "<Figure size 432x288 with 1 Axes>"
      ]
     },
     "metadata": {
      "needs_background": "light"
     },
     "output_type": "display_data"
    }
   ],
   "source": [
    "sns.boxplot(x=train_data['population'])"
   ]
  },
  {
   "cell_type": "code",
   "execution_count": 325,
   "id": "pending-shock",
   "metadata": {},
   "outputs": [
    {
     "name": "stdout",
     "output_type": "stream",
     "text": [
      "Number of outliers above 40000: 0\n",
      "25.0 Series([], Name: population, dtype: float64)\n"
     ]
    }
   ],
   "source": [
    "print('Number of outliers above 40000:', len(train_data[train_data['population'] > 40000]))\n",
    "outliers_population = train_data['population'][train_data['population'] > 40000]\n",
    "population_median = train_data['population'].median()\n",
    "\n",
    "for value in outliers_population:\n",
    "    train_data['population'] = train_data['population'].replace(value, population_median)\n",
    "\n",
    "print(population_median,\n",
    "     outliers_population)\n",
    "\n"
   ]
  },
  {
   "cell_type": "markdown",
   "id": "greatest-garlic",
   "metadata": {},
   "source": [
    "### 5.1 Modelos \n",
    "Usaremos diferentes algoritmos de clasificación y compararemos las precisiones (*accuracy*) con validación cruzada. <br>\n",
    "Dado que en la competición se usará *classification accuracy* como metrica principal para la evaluación, nos enfocaremos principalmente en ella."
   ]
  },
  {
   "cell_type": "code",
   "execution_count": 326,
   "id": "brilliant-alfred",
   "metadata": {},
   "outputs": [],
   "source": [
    "X = train_data.drop('status_group', axis=1)\n",
    "y = train_data['status_group']\n",
    "\n",
    "#Train/Test split\n",
    "X_train, X_test, y_train, y_test = train_test_split(\n",
    "                        X,\n",
    "                        y,\n",
    "                        test_size=0.2, \n",
    "                        random_state=42,\n",
    "                        stratify = y)"
   ]
  },
  {
   "cell_type": "markdown",
   "id": "chinese-programmer",
   "metadata": {},
   "source": [
    "#### 5.1.1. kNN"
   ]
  },
  {
   "cell_type": "code",
   "execution_count": 327,
   "id": "pressed-thanks",
   "metadata": {},
   "outputs": [
    {
     "name": "stdout",
     "output_type": "stream",
     "text": [
      "Cross-validated Accuracy: \n",
      "=========================\n",
      "0.6722895622895623\n",
      "\n",
      "      \n",
      "Accuracy:\n",
      "=========\n",
      "TRAIN: 0.8308712121212121\n",
      "TEST: 0.7535353535353535\n"
     ]
    },
    {
     "data": {
      "text/plain": [
       "<AxesSubplot:title={'center':'Confusion Matrix'}>"
      ]
     },
     "execution_count": 327,
     "metadata": {},
     "output_type": "execute_result"
    },
    {
     "data": {
      "image/png": "[encoded data removed]",
      "text/plain": [
       "<Figure size 432x288 with 2 Axes>"
      ]
     },
     "metadata": {
      "needs_background": "light"
     },
     "output_type": "display_data"
    }
   ],
   "source": [
    "#Scale Data \n",
    "from sklearn.preprocessing import StandardScaler\n",
    "normalized_X_train = pd.DataFrame(StandardScaler().fit_transform(X_train), columns = X_train.columns)\n",
    "normalized_X_test = pd.DataFrame(StandardScaler().fit_transform(X_test), columns = X_test.columns)\n",
    "\n",
    "#Create model\n",
    "knn = KNeighborsClassifier() #creating the model\n",
    "knn.fit(normalized_X_train, y_train) #showing our model the training data\n",
    "y_knn_train = knn.predict(normalized_X_train) #predictions on training set\n",
    "y_knn_test = knn.predict(normalized_X_test) #predictions on test set\n",
    "\n",
    "#CV Score\n",
    "y_knn_cv = cross_val_score(knn, X, y, cv=5, scoring='accuracy')\n",
    "\n",
    "##################\n",
    "#Print results\n",
    "##################\n",
    "##CV Accuracy\n",
    "print('Cross-validated Accuracy: '); print(\"=\"*len(\"Cross-validated Accuracy:\")); print(y_knn_cv.mean())\n",
    "print('''\n",
    "      ''')\n",
    "##Accuracy for train and test\n",
    "print(\"Accuracy:\"); print(\"=\"*len(\"Accuracy:\"))\n",
    "print(f\"TRAIN: {accuracy_score(y_train, y_knn_train)}\")\n",
    "print(f\"TEST: {accuracy_score(y_test, y_knn_test)}\")\n",
    "##Confusion Matrix\n",
    "cm = confusion_matrix(y_test, y_knn_test)\n",
    "plt.title('Confusion Matrix')\n",
    "sns.heatmap(cm, annot=True,cmap='Blues',fmt='d')"
   ]
  },
  {
   "cell_type": "markdown",
   "id": "limiting-sydney",
   "metadata": {},
   "source": [
    "#### 5.1.2. Decision Tree"
   ]
  },
  {
   "cell_type": "code",
   "execution_count": 328,
   "id": "variable-workstation",
   "metadata": {},
   "outputs": [
    {
     "name": "stdout",
     "output_type": "stream",
     "text": [
      "Cross-validated Accuracy: \n",
      "=========================\n",
      "0.7502861952861954\n",
      "\n",
      "      \n",
      "Accuracy:\n",
      "=========\n",
      "TRAIN: 0.9953914141414142\n",
      "TEST: 0.7598484848484849\n"
     ]
    },
    {
     "data": {
      "text/plain": [
       "<AxesSubplot:title={'center':'Confusion Matrix'}>"
      ]
     },
     "execution_count": 328,
     "metadata": {},
     "output_type": "execute_result"
    },
    {
     "data": {
      "image/png": "[encoded data removed]",
      "text/plain": [
       "<Figure size 432x288 with 2 Axes>"
      ]
     },
     "metadata": {
      "needs_background": "light"
     },
     "output_type": "display_data"
    }
   ],
   "source": [
    "dt = DecisionTreeClassifier().fit(X_train, y_train) \n",
    "y_dt_train = dt.predict(X_train)\n",
    "y_dt_test = dt.predict(X_test)\n",
    "\n",
    "#CV Score\n",
    "y_dt_cv = cross_val_score(dt, X, y, cv=5, scoring='accuracy')\n",
    "\n",
    "##################\n",
    "#Print results\n",
    "##################\n",
    "##CV Accuracy\n",
    "print('Cross-validated Accuracy: '); print(\"=\"*len(\"Cross-validated Accuracy:\")); print(y_dt_cv.mean())\n",
    "print('''\n",
    "      ''')\n",
    "##Accuracy for train and test\n",
    "print(\"Accuracy:\"); print(\"=\"*len(\"Accuracy:\"))\n",
    "print(f\"TRAIN: {accuracy_score(y_train, y_dt_train)}\")\n",
    "print(f\"TEST: {accuracy_score(y_test, y_dt_test)}\")\n",
    "##Confusion Matrix\n",
    "cm = confusion_matrix(y_test, y_dt_test)\n",
    "plt.title('Confusion Matrix')\n",
    "sns.heatmap(cm, annot=True,cmap='Blues',fmt='d')"
   ]
  },
  {
   "cell_type": "markdown",
   "id": "starting-philadelphia",
   "metadata": {},
   "source": [
    "#### 5.1.3. Random Forest"
   ]
  },
  {
   "cell_type": "code",
   "execution_count": 329,
   "id": "welcome-telephone",
   "metadata": {},
   "outputs": [
    {
     "name": "stdout",
     "output_type": "stream",
     "text": [
      "Cross-validated Accuracy: \n",
      "=========================\n",
      "0.8035690235690236\n",
      "\n",
      "      \n",
      "Accuracy:\n",
      "=========\n",
      "TRAIN: 0.9953703703703703\n",
      "TEST: 0.8073232323232323\n"
     ]
    },
    {
     "data": {
      "text/plain": [
       "<AxesSubplot:title={'center':'Confusion Matrix'}>"
      ]
     },
     "execution_count": 329,
     "metadata": {},
     "output_type": "execute_result"
    },
    {
     "data": {
      "image/png": "[encoded data removed]",
      "text/plain": [
       "<Figure size 432x288 with 2 Axes>"
      ]
     },
     "metadata": {
      "needs_background": "light"
     },
     "output_type": "display_data"
    }
   ],
   "source": [
    "rf = RandomForestClassifier().fit(X_train, y_train) \n",
    "y_rf_train = rf.predict(X_train)\n",
    "y_rf_test = rf.predict(X_test)\n",
    "\n",
    "#CV Score\n",
    "y_rf_cv = cross_val_score(rf, X, y, cv=5, scoring='accuracy')\n",
    "\n",
    "##################\n",
    "#Print results\n",
    "##################\n",
    "##CV Accuracy\n",
    "print('Cross-validated Accuracy: '); print(\"=\"*len(\"Cross-validated Accuracy:\")); print(y_rf_cv.mean())\n",
    "print('''\n",
    "      ''')\n",
    "##Accuracy for train and test\n",
    "print(\"Accuracy:\"); print(\"=\"*len(\"Accuracy:\"))\n",
    "print(f\"TRAIN: {accuracy_score(y_train, y_rf_train)}\")\n",
    "print(f\"TEST: {accuracy_score(y_test, y_rf_test)}\")\n",
    "##Confusion Matrix\n",
    "cm = confusion_matrix(y_test, y_rf_test)\n",
    "plt.title('Confusion Matrix')\n",
    "sns.heatmap(cm, annot=True,cmap='Blues',fmt='d')"
   ]
  },
  {
   "cell_type": "markdown",
   "id": "enhanced-verse",
   "metadata": {},
   "source": [
    "#### 5.1.4. Gradient Boosting"
   ]
  },
  {
   "cell_type": "code",
   "execution_count": 330,
   "id": "mental-oxygen",
   "metadata": {},
   "outputs": [
    {
     "name": "stdout",
     "output_type": "stream",
     "text": [
      "Cross-validated Accuracy: \n",
      "=========================\n",
      "0.7491414141414141\n",
      "\n",
      "      \n",
      "Accuracy:\n",
      "=========\n",
      "TRAIN: 0.7519781144781145\n",
      "TEST: 0.7489057239057239\n"
     ]
    },
    {
     "data": {
      "text/plain": [
       "<AxesSubplot:title={'center':'Confusion Matrix'}>"
      ]
     },
     "execution_count": 330,
     "metadata": {},
     "output_type": "execute_result"
    },
    {
     "data": {
      "image/png": "[encoded data removed]",
      "text/plain": [
       "<Figure size 432x288 with 2 Axes>"
      ]
     },
     "metadata": {
      "needs_background": "light"
     },
     "output_type": "display_data"
    }
   ],
   "source": [
    "from sklearn.ensemble import GradientBoostingClassifier\n",
    "\n",
    "gb = GradientBoostingClassifier().fit(X_train, y_train) \n",
    "y_gb_train = gb.predict(X_train)\n",
    "y_gb_test = gb.predict(X_test)\n",
    "\n",
    "#CV Score\n",
    "y_gb_cv = cross_val_score(gb, X, y, cv=5, scoring='accuracy')\n",
    "\n",
    "##################\n",
    "#Print results\n",
    "##################\n",
    "##CV Accuracy\n",
    "print('Cross-validated Accuracy: '); print(\"=\"*len(\"Cross-validated Accuracy:\")); print(y_gb_cv.mean())\n",
    "print('''\n",
    "      ''')\n",
    "##Accuracy for train and test\n",
    "print(\"Accuracy:\"); print(\"=\"*len(\"Accuracy:\"))\n",
    "print(f\"TRAIN: {accuracy_score(y_train, y_gb_train)}\")\n",
    "print(f\"TEST: {accuracy_score(y_test, y_gb_test)}\")\n",
    "##Confusion Matrix\n",
    "cm = confusion_matrix(y_test, y_gb_test)\n",
    "plt.title('Confusion Matrix')\n",
    "sns.heatmap(cm, annot=True,cmap='Blues',fmt='d')"
   ]
  },
  {
   "cell_type": "markdown",
   "id": "bridal-scientist",
   "metadata": {},
   "source": [
    "#### 5.1.5. Bernoulli NB"
   ]
  },
  {
   "cell_type": "code",
   "execution_count": 331,
   "id": "alert-doubt",
   "metadata": {},
   "outputs": [
    {
     "name": "stdout",
     "output_type": "stream",
     "text": [
      "Cross-validated Accuracy:\n",
      "=========================\n",
      "0.5960437710437709\n",
      "\n",
      "      \n",
      "Accuracy:\n",
      "=========\n",
      "TRAIN: 0.5974747474747475\n",
      "TEST: 0.591919191919192\n"
     ]
    },
    {
     "data": {
      "text/plain": [
       "<AxesSubplot:title={'center':'Confusion Matrix'}>"
      ]
     },
     "execution_count": 331,
     "metadata": {},
     "output_type": "execute_result"
    },
    {
     "data": {
      "image/png": "[encoded data removed]",
      "text/plain": [
       "<Figure size 432x288 with 2 Axes>"
      ]
     },
     "metadata": {
      "needs_background": "light"
     },
     "output_type": "display_data"
    }
   ],
   "source": [
    "from sklearn.naive_bayes import BernoulliNB\n",
    "\n",
    "nb = BernoulliNB().fit(X_train, y_train) \n",
    "y_nb_train = nb.predict(X_train)\n",
    "y_nb_test = nb.predict(X_test)\n",
    "\n",
    "#CV Score\n",
    "y_nb_cv = cross_val_score(nb, X, y, cv=5, scoring='accuracy')\n",
    "\n",
    "##################\n",
    "#Print results\n",
    "##################\n",
    "##CV Accuracy\n",
    "print('Cross-validated Accuracy:'); print(\"=\"*len(\"Cross-validated Accuracy:\")); print(y_nb_cv.mean())\n",
    "print('''\n",
    "      ''')\n",
    "##Accuracy for train and test\n",
    "print(\"Accuracy:\"); print(\"=\"*len(\"Accuracy:\"))\n",
    "print(f\"TRAIN: {accuracy_score(y_train, y_nb_train)}\")\n",
    "print(f\"TEST: {accuracy_score(y_test, y_nb_test)}\")\n",
    "##Confusion Matrix\n",
    "cm = confusion_matrix(y_test, y_nb_test)\n",
    "plt.title('Confusion Matrix')\n",
    "sns.heatmap(cm, annot=True,cmap='Blues',fmt='d')"
   ]
  },
  {
   "cell_type": "markdown",
   "id": "sonic-fifty",
   "metadata": {},
   "source": [
    "#### 5.1.6. Adaboost"
   ]
  },
  {
   "cell_type": "code",
   "execution_count": 332,
   "id": "purple-hebrew",
   "metadata": {},
   "outputs": [
    {
     "name": "stdout",
     "output_type": "stream",
     "text": [
      "Cross-validated Accuracy:\n",
      "=========================\n",
      "0.722037037037037\n",
      "\n",
      "      \n",
      "Accuracy:\n",
      "=========\n",
      "TRAIN: 0.7203703703703703\n",
      "TEST: 0.718013468013468\n"
     ]
    },
    {
     "data": {
      "text/plain": [
       "<AxesSubplot:title={'center':'Confusion Matrix'}>"
      ]
     },
     "execution_count": 332,
     "metadata": {},
     "output_type": "execute_result"
    },
    {
     "data": {
      "image/png": "[encoded data removed]",
      "text/plain": [
       "<Figure size 432x288 with 2 Axes>"
      ]
     },
     "metadata": {
      "needs_background": "light"
     },
     "output_type": "display_data"
    }
   ],
   "source": [
    "from sklearn.ensemble import AdaBoostClassifier\n",
    "\n",
    "ada = AdaBoostClassifier(random_state=0).fit(X_train, y_train)\n",
    "y_ada_train = ada.predict(X_train)\n",
    "y_ada_test = ada.predict(X_test)\n",
    "\n",
    "#CV Score\n",
    "y_ada_cv = cross_val_score(ada, X, y, cv=5, scoring='accuracy')\n",
    "\n",
    "##################\n",
    "#Print results\n",
    "##################\n",
    "##CV Accuracy\n",
    "print('Cross-validated Accuracy:'); print(\"=\"*len(\"Cross-validated Accuracy:\")); print(y_ada_cv.mean())\n",
    "print('''\n",
    "      ''')\n",
    "##Accuracy for train and test\n",
    "print(\"Accuracy:\"); print(\"=\"*len(\"Accuracy:\"))\n",
    "print(f\"TRAIN: {accuracy_score(y_train, y_ada_train)}\")\n",
    "print(f\"TEST: {accuracy_score(y_test, y_ada_test)}\")\n",
    "##Confusion Matrix\n",
    "cm = confusion_matrix(y_test, y_ada_test)\n",
    "plt.title('Confusion Matrix')\n",
    "sns.heatmap(cm, annot=True,cmap='Blues',fmt='d')"
   ]
  },
  {
   "cell_type": "markdown",
   "id": "hearing-extreme",
   "metadata": {},
   "source": [
    "#### Comparación modelos"
   ]
  },
  {
   "cell_type": "code",
   "execution_count": 333,
   "id": "equal-partnership",
   "metadata": {},
   "outputs": [
    {
     "name": "stdout",
     "output_type": "stream",
     "text": [
      "--- Comparison cross-validated accuracy---\n",
      "==========================================\n"
     ]
    },
    {
     "data": {
      "text/html": [
       "<div>\n",
       "<style scoped>\n",
       "    .dataframe tbody tr th:only-of-type {\n",
       "        vertical-align: middle;\n",
       "    }\n",
       "\n",
       "    .dataframe tbody tr th {\n",
       "        vertical-align: top;\n",
       "    }\n",
       "\n",
       "    .dataframe thead th {\n",
       "        text-align: right;\n",
       "    }\n",
       "</style>\n",
       "<table border=\"1\" class=\"dataframe\">\n",
       "  <thead>\n",
       "    <tr style=\"text-align: right;\">\n",
       "      <th></th>\n",
       "      <th>Model</th>\n",
       "      <th>Cross-validated accuracy</th>\n",
       "    </tr>\n",
       "  </thead>\n",
       "  <tbody>\n",
       "    <tr>\n",
       "      <th>2</th>\n",
       "      <td>Random Forest</td>\n",
       "      <td>0.803569</td>\n",
       "    </tr>\n",
       "    <tr>\n",
       "      <th>1</th>\n",
       "      <td>Decision Tree</td>\n",
       "      <td>0.750286</td>\n",
       "    </tr>\n",
       "    <tr>\n",
       "      <th>3</th>\n",
       "      <td>Gradient Boosting</td>\n",
       "      <td>0.749141</td>\n",
       "    </tr>\n",
       "    <tr>\n",
       "      <th>5</th>\n",
       "      <td>AdaBoost</td>\n",
       "      <td>0.722037</td>\n",
       "    </tr>\n",
       "    <tr>\n",
       "      <th>0</th>\n",
       "      <td>kNN</td>\n",
       "      <td>0.672290</td>\n",
       "    </tr>\n",
       "    <tr>\n",
       "      <th>4</th>\n",
       "      <td>Gaussian NB</td>\n",
       "      <td>0.596044</td>\n",
       "    </tr>\n",
       "  </tbody>\n",
       "</table>\n",
       "</div>"
      ],
      "text/plain": [
       "               Model  Cross-validated accuracy\n",
       "2      Random Forest                  0.803569\n",
       "1      Decision Tree                  0.750286\n",
       "3  Gradient Boosting                  0.749141\n",
       "5           AdaBoost                  0.722037\n",
       "0                kNN                  0.672290\n",
       "4        Gaussian NB                  0.596044"
      ]
     },
     "execution_count": 333,
     "metadata": {},
     "output_type": "execute_result"
    }
   ],
   "source": [
    "comparison_cv = pd.DataFrame({\n",
    "    'Model':[\n",
    "        'kNN',\n",
    "        'Decision Tree', \n",
    "        'Random Forest',\n",
    "        'Gradient Boosting', \n",
    "        'Gaussian NB',\n",
    "        'AdaBoost'\n",
    "    ], \n",
    "    'Cross-validated accuracy':[\n",
    "        y_knn_cv.mean(),\n",
    "        y_dt_cv.mean(),\n",
    "        y_rf_cv.mean(),\n",
    "        y_gb_cv.mean(),\n",
    "        y_nb_cv.mean(),\n",
    "        y_ada_cv.mean()\n",
    "    ]\n",
    "})\n",
    "\n",
    "print('--- Comparison cross-validated accuracy---')\n",
    "print('='*len('--- Comparison cross-validated accuracy---'))\n",
    "comparison_cv.sort_values('Cross-validated accuracy', ascending = False)"
   ]
  },
  {
   "cell_type": "markdown",
   "id": "suburban-mainstream",
   "metadata": {},
   "source": [
    "### 5.2 Parameter Tuning\n",
    "Modificaremos los parametros para el mejor modelo, que en este caso fue el Random Forest. \n",
    "Si comparamos los resultados para training y test vemos que hay un poco de sobreajuste e intentaremos disminuir este efecto con la modificación con los hyperparametros del modelo. \n",
    "#### Usando GridSearch\n",
    "Con GridSearch creamos un red o selección con diferentes hyperparametros que queremos probar.\n",
    "GridSearchCV calcula todas las diferentes combinaciones de los parametros que hemos especificado en la selección y así podemos calcular la precisón con validación cruzada (en este caso 3-fold CV)."
   ]
  },
  {
   "cell_type": "code",
   "execution_count": 273,
   "id": "happy-statement",
   "metadata": {},
   "outputs": [],
   "source": [
    "# Create the parameter grid based on the results of random search \n",
    "param_grid = {\n",
    "    'bootstrap': [True],\n",
    "    'max_depth': [15,20,25],\n",
    "    'max_features': [4,6,8],\n",
    "    'min_samples_leaf': [1,2,3],\n",
    "    'min_samples_split': [4,6,8],\n",
    "    'n_estimators': [300, 400, 500]\n",
    "}\n",
    "# Create a base model\n",
    "rf = RandomForestClassifier()\n",
    "# Instantiate grid search model\n",
    "rf_gridsearch = GridSearchCV(estimator = rf, param_grid = param_grid, \n",
    "                          cv = 3, n_jobs = -1, verbose = 2)"
   ]
  },
  {
   "cell_type": "code",
   "execution_count": 274,
   "id": "educated-graduation",
   "metadata": {},
   "outputs": [
    {
     "name": "stdout",
     "output_type": "stream",
     "text": [
      "Fitting 3 folds for each of 243 candidates, totalling 729 fits\n"
     ]
    },
    {
     "data": {
      "text/plain": [
       "{'bootstrap': True,\n",
       " 'max_depth': 25,\n",
       " 'max_features': 4,\n",
       " 'min_samples_leaf': 2,\n",
       " 'min_samples_split': 4,\n",
       " 'n_estimators': 500}"
      ]
     },
     "execution_count": 274,
     "metadata": {},
     "output_type": "execute_result"
    }
   ],
   "source": [
    "# Fit the grid search to the data\n",
    "rf_gridsearch.fit(X_train, y_train) \n",
    "rf_gridsearch.best_params_"
   ]
  },
  {
   "cell_type": "code",
   "execution_count": 275,
   "id": "asian-harassment",
   "metadata": {},
   "outputs": [
    {
     "name": "stdout",
     "output_type": "stream",
     "text": [
      "Accuracy:\n",
      "=========\n",
      "TEST: 0.8121212121212121\n"
     ]
    }
   ],
   "source": [
    "# print prediction results \n",
    "predictions = rf_gridsearch.predict(X_test) \n",
    "\n",
    "# Accuracy for test\n",
    "print(\"Accuracy:\"); print(\"=\"*len(\"Accuracy:\"))\n",
    "print(f\"TEST: {accuracy_score(y_test, predictions)}\")"
   ]
  },
  {
   "cell_type": "markdown",
   "id": "assisted-sewing",
   "metadata": {},
   "source": [
    "## 6 Crear predicciones"
   ]
  },
  {
   "cell_type": "code",
   "execution_count": 276,
   "id": "norwegian-research",
   "metadata": {},
   "outputs": [
    {
     "data": {
      "text/html": [
       "<div>\n",
       "<style scoped>\n",
       "    .dataframe tbody tr th:only-of-type {\n",
       "        vertical-align: middle;\n",
       "    }\n",
       "\n",
       "    .dataframe tbody tr th {\n",
       "        vertical-align: top;\n",
       "    }\n",
       "\n",
       "    .dataframe thead th {\n",
       "        text-align: right;\n",
       "    }\n",
       "</style>\n",
       "<table border=\"1\" class=\"dataframe\">\n",
       "  <thead>\n",
       "    <tr style=\"text-align: right;\">\n",
       "      <th></th>\n",
       "      <th>id</th>\n",
       "      <th>status_group</th>\n",
       "    </tr>\n",
       "  </thead>\n",
       "  <tbody>\n",
       "    <tr>\n",
       "      <th>0</th>\n",
       "      <td>50785</td>\n",
       "      <td>functional</td>\n",
       "    </tr>\n",
       "    <tr>\n",
       "      <th>1</th>\n",
       "      <td>51630</td>\n",
       "      <td>functional</td>\n",
       "    </tr>\n",
       "    <tr>\n",
       "      <th>2</th>\n",
       "      <td>17168</td>\n",
       "      <td>functional</td>\n",
       "    </tr>\n",
       "    <tr>\n",
       "      <th>3</th>\n",
       "      <td>45559</td>\n",
       "      <td>non functional</td>\n",
       "    </tr>\n",
       "    <tr>\n",
       "      <th>4</th>\n",
       "      <td>49871</td>\n",
       "      <td>functional</td>\n",
       "    </tr>\n",
       "  </tbody>\n",
       "</table>\n",
       "</div>"
      ],
      "text/plain": [
       "      id    status_group\n",
       "0  50785      functional\n",
       "1  51630      functional\n",
       "2  17168      functional\n",
       "3  45559  non functional\n",
       "4  49871      functional"
      ]
     },
     "execution_count": 276,
     "metadata": {},
     "output_type": "execute_result"
    }
   ],
   "source": [
    "# use test_values_clean to create the submission file\n",
    "predictions_submission = rf_gridsearch.predict(test_values_clean)\n",
    "\n",
    "submission = pd.DataFrame()\n",
    "submission['id'] = test_values_clean.index.values\n",
    "submission['status_group'] = predictions_submission\n",
    "# replace int with string labels\n",
    "replacements = {\n",
    "   'status_group': {\n",
    "      0: 'non functional',\n",
    "      1: 'functional needs repair',\n",
    "      2: 'functional'}\n",
    "}\n",
    "\n",
    "submission.replace(replacements, inplace=True)\n",
    "\n",
    "submission.head()"
   ]
  },
  {
   "cell_type": "code",
   "execution_count": 277,
   "id": "equivalent-gasoline",
   "metadata": {},
   "outputs": [
    {
     "data": {
      "text/plain": [
       "True"
      ]
     },
     "execution_count": 277,
     "metadata": {},
     "output_type": "execute_result"
    }
   ],
   "source": [
    "# check if both dataframes are the same length\n",
    "len(test_values_clean) == len(submission)"
   ]
  },
  {
   "cell_type": "code",
   "execution_count": 278,
   "id": "specified-thailand",
   "metadata": {},
   "outputs": [],
   "source": [
    "# Save as csv file\n",
    "submission.to_csv('submission.csv', index=False)"
   ]
  },
  {
   "cell_type": "markdown",
   "id": "controlling-audio",
   "metadata": {},
   "source": [
    "### 6.2 Evaluación\n",
    "Depués de subir las predicciones, vemos que el modelo tiene una precisión de 81,35%. \n",
    "Es decir si tenemos 100 nuevas observaciones, el modelo va a clasificar aproximadamente 81 observaciones correctamente. "
   ]
  },
  {
   "cell_type": "markdown",
   "id": "tight-approval",
   "metadata": {},
   "source": [
    "![Submission](submission.png)"
   ]
  }
 ],
 "metadata": {
  "kernelspec": {
   "display_name": "Python 3",
   "language": "python",
   "name": "python3"
  },
  "language_info": {
   "codemirror_mode": {
    "name": "ipython",
    "version": 3
   },
   "file_extension": ".py",
   "mimetype": "text/x-python",
   "name": "python",
   "nbconvert_exporter": "python",
   "pygments_lexer": "ipython3",
   "version": "3.8.8"
  }
 },
 "nbformat": 4,
 "nbformat_minor": 5
}
